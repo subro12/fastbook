{
  "nbformat": 4,
  "nbformat_minor": 0,
  "metadata": {
    "colab": {
      "name": "Feed-forward-self",
      "provenance": [],
      "collapsed_sections": [],
      "authorship_tag": "ABX9TyP9W/l90bpYjGrJsTp24DUE",
      "include_colab_link": true
    },
    "kernelspec": {
      "name": "python3",
      "display_name": "Python 3"
    },
    "accelerator": "GPU",
    "widgets": {
      "application/vnd.jupyter.widget-state+json": {
        "80584e360d8e4e4b9c565fd90c07fa56": {
          "model_module": "@jupyter-widgets/controls",
          "model_name": "HBoxModel",
          "state": {
            "_view_name": "HBoxView",
            "_dom_classes": [],
            "_model_name": "HBoxModel",
            "_view_module": "@jupyter-widgets/controls",
            "_model_module_version": "1.5.0",
            "_view_count": null,
            "_view_module_version": "1.5.0",
            "box_style": "",
            "layout": "IPY_MODEL_18ef3a478dfa429db781773c20b154a8",
            "_model_module": "@jupyter-widgets/controls",
            "children": [
              "IPY_MODEL_802c671760414930ba85ba02be4055dd",
              "IPY_MODEL_d5ba1f2cc44b45fe9c5a35b57997aac5"
            ]
          }
        },
        "18ef3a478dfa429db781773c20b154a8": {
          "model_module": "@jupyter-widgets/base",
          "model_name": "LayoutModel",
          "state": {
            "_view_name": "LayoutView",
            "grid_template_rows": null,
            "right": null,
            "justify_content": null,
            "_view_module": "@jupyter-widgets/base",
            "overflow": null,
            "_model_module_version": "1.2.0",
            "_view_count": null,
            "flex_flow": null,
            "width": null,
            "min_width": null,
            "border": null,
            "align_items": null,
            "bottom": null,
            "_model_module": "@jupyter-widgets/base",
            "top": null,
            "grid_column": null,
            "overflow_y": null,
            "overflow_x": null,
            "grid_auto_flow": null,
            "grid_area": null,
            "grid_template_columns": null,
            "flex": null,
            "_model_name": "LayoutModel",
            "justify_items": null,
            "grid_row": null,
            "max_height": null,
            "align_content": null,
            "visibility": null,
            "align_self": null,
            "height": null,
            "min_height": null,
            "padding": null,
            "grid_auto_rows": null,
            "grid_gap": null,
            "max_width": null,
            "order": null,
            "_view_module_version": "1.2.0",
            "grid_template_areas": null,
            "object_position": null,
            "object_fit": null,
            "grid_auto_columns": null,
            "margin": null,
            "display": null,
            "left": null
          }
        },
        "802c671760414930ba85ba02be4055dd": {
          "model_module": "@jupyter-widgets/controls",
          "model_name": "FloatProgressModel",
          "state": {
            "_view_name": "ProgressView",
            "style": "IPY_MODEL_4fd70a31212a486796aaf803b94ce59c",
            "_dom_classes": [],
            "description": "",
            "_model_name": "FloatProgressModel",
            "bar_style": "success",
            "max": 1,
            "_view_module": "@jupyter-widgets/controls",
            "_model_module_version": "1.5.0",
            "value": 1,
            "_view_count": null,
            "_view_module_version": "1.5.0",
            "orientation": "horizontal",
            "min": 0,
            "description_tooltip": null,
            "_model_module": "@jupyter-widgets/controls",
            "layout": "IPY_MODEL_584b18c6e08a4a2399c1fa3d065e473c"
          }
        },
        "d5ba1f2cc44b45fe9c5a35b57997aac5": {
          "model_module": "@jupyter-widgets/controls",
          "model_name": "HTMLModel",
          "state": {
            "_view_name": "HTMLView",
            "style": "IPY_MODEL_7ea481a3113149a7a44d5275b82e7a61",
            "_dom_classes": [],
            "description": "",
            "_model_name": "HTMLModel",
            "placeholder": "​",
            "_view_module": "@jupyter-widgets/controls",
            "_model_module_version": "1.5.0",
            "value": " 9920512/? [00:01&lt;00:00, 6839217.70it/s]",
            "_view_count": null,
            "_view_module_version": "1.5.0",
            "description_tooltip": null,
            "_model_module": "@jupyter-widgets/controls",
            "layout": "IPY_MODEL_7a0e22202d45433781320ec2dbb62c83"
          }
        },
        "4fd70a31212a486796aaf803b94ce59c": {
          "model_module": "@jupyter-widgets/controls",
          "model_name": "ProgressStyleModel",
          "state": {
            "_view_name": "StyleView",
            "_model_name": "ProgressStyleModel",
            "description_width": "initial",
            "_view_module": "@jupyter-widgets/base",
            "_model_module_version": "1.5.0",
            "_view_count": null,
            "_view_module_version": "1.2.0",
            "bar_color": null,
            "_model_module": "@jupyter-widgets/controls"
          }
        },
        "584b18c6e08a4a2399c1fa3d065e473c": {
          "model_module": "@jupyter-widgets/base",
          "model_name": "LayoutModel",
          "state": {
            "_view_name": "LayoutView",
            "grid_template_rows": null,
            "right": null,
            "justify_content": null,
            "_view_module": "@jupyter-widgets/base",
            "overflow": null,
            "_model_module_version": "1.2.0",
            "_view_count": null,
            "flex_flow": null,
            "width": null,
            "min_width": null,
            "border": null,
            "align_items": null,
            "bottom": null,
            "_model_module": "@jupyter-widgets/base",
            "top": null,
            "grid_column": null,
            "overflow_y": null,
            "overflow_x": null,
            "grid_auto_flow": null,
            "grid_area": null,
            "grid_template_columns": null,
            "flex": null,
            "_model_name": "LayoutModel",
            "justify_items": null,
            "grid_row": null,
            "max_height": null,
            "align_content": null,
            "visibility": null,
            "align_self": null,
            "height": null,
            "min_height": null,
            "padding": null,
            "grid_auto_rows": null,
            "grid_gap": null,
            "max_width": null,
            "order": null,
            "_view_module_version": "1.2.0",
            "grid_template_areas": null,
            "object_position": null,
            "object_fit": null,
            "grid_auto_columns": null,
            "margin": null,
            "display": null,
            "left": null
          }
        },
        "7ea481a3113149a7a44d5275b82e7a61": {
          "model_module": "@jupyter-widgets/controls",
          "model_name": "DescriptionStyleModel",
          "state": {
            "_view_name": "StyleView",
            "_model_name": "DescriptionStyleModel",
            "description_width": "",
            "_view_module": "@jupyter-widgets/base",
            "_model_module_version": "1.5.0",
            "_view_count": null,
            "_view_module_version": "1.2.0",
            "_model_module": "@jupyter-widgets/controls"
          }
        },
        "7a0e22202d45433781320ec2dbb62c83": {
          "model_module": "@jupyter-widgets/base",
          "model_name": "LayoutModel",
          "state": {
            "_view_name": "LayoutView",
            "grid_template_rows": null,
            "right": null,
            "justify_content": null,
            "_view_module": "@jupyter-widgets/base",
            "overflow": null,
            "_model_module_version": "1.2.0",
            "_view_count": null,
            "flex_flow": null,
            "width": null,
            "min_width": null,
            "border": null,
            "align_items": null,
            "bottom": null,
            "_model_module": "@jupyter-widgets/base",
            "top": null,
            "grid_column": null,
            "overflow_y": null,
            "overflow_x": null,
            "grid_auto_flow": null,
            "grid_area": null,
            "grid_template_columns": null,
            "flex": null,
            "_model_name": "LayoutModel",
            "justify_items": null,
            "grid_row": null,
            "max_height": null,
            "align_content": null,
            "visibility": null,
            "align_self": null,
            "height": null,
            "min_height": null,
            "padding": null,
            "grid_auto_rows": null,
            "grid_gap": null,
            "max_width": null,
            "order": null,
            "_view_module_version": "1.2.0",
            "grid_template_areas": null,
            "object_position": null,
            "object_fit": null,
            "grid_auto_columns": null,
            "margin": null,
            "display": null,
            "left": null
          }
        },
        "88828bb607cb4f77b3f99e971d2186b5": {
          "model_module": "@jupyter-widgets/controls",
          "model_name": "HBoxModel",
          "state": {
            "_view_name": "HBoxView",
            "_dom_classes": [],
            "_model_name": "HBoxModel",
            "_view_module": "@jupyter-widgets/controls",
            "_model_module_version": "1.5.0",
            "_view_count": null,
            "_view_module_version": "1.5.0",
            "box_style": "",
            "layout": "IPY_MODEL_d63e7a8e9937441db786e7f6a9e7b05b",
            "_model_module": "@jupyter-widgets/controls",
            "children": [
              "IPY_MODEL_741278e92e88497eb883586163b9f03c",
              "IPY_MODEL_f5d0cd9bb73b49989aed7fce039cc40e"
            ]
          }
        },
        "d63e7a8e9937441db786e7f6a9e7b05b": {
          "model_module": "@jupyter-widgets/base",
          "model_name": "LayoutModel",
          "state": {
            "_view_name": "LayoutView",
            "grid_template_rows": null,
            "right": null,
            "justify_content": null,
            "_view_module": "@jupyter-widgets/base",
            "overflow": null,
            "_model_module_version": "1.2.0",
            "_view_count": null,
            "flex_flow": null,
            "width": null,
            "min_width": null,
            "border": null,
            "align_items": null,
            "bottom": null,
            "_model_module": "@jupyter-widgets/base",
            "top": null,
            "grid_column": null,
            "overflow_y": null,
            "overflow_x": null,
            "grid_auto_flow": null,
            "grid_area": null,
            "grid_template_columns": null,
            "flex": null,
            "_model_name": "LayoutModel",
            "justify_items": null,
            "grid_row": null,
            "max_height": null,
            "align_content": null,
            "visibility": null,
            "align_self": null,
            "height": null,
            "min_height": null,
            "padding": null,
            "grid_auto_rows": null,
            "grid_gap": null,
            "max_width": null,
            "order": null,
            "_view_module_version": "1.2.0",
            "grid_template_areas": null,
            "object_position": null,
            "object_fit": null,
            "grid_auto_columns": null,
            "margin": null,
            "display": null,
            "left": null
          }
        },
        "741278e92e88497eb883586163b9f03c": {
          "model_module": "@jupyter-widgets/controls",
          "model_name": "FloatProgressModel",
          "state": {
            "_view_name": "ProgressView",
            "style": "IPY_MODEL_bb96711f17cf49e5abcd642d5ceb808d",
            "_dom_classes": [],
            "description": "",
            "_model_name": "FloatProgressModel",
            "bar_style": "success",
            "max": 1,
            "_view_module": "@jupyter-widgets/controls",
            "_model_module_version": "1.5.0",
            "value": 1,
            "_view_count": null,
            "_view_module_version": "1.5.0",
            "orientation": "horizontal",
            "min": 0,
            "description_tooltip": null,
            "_model_module": "@jupyter-widgets/controls",
            "layout": "IPY_MODEL_ad1834ca636c4b7099a828c7f594f521"
          }
        },
        "f5d0cd9bb73b49989aed7fce039cc40e": {
          "model_module": "@jupyter-widgets/controls",
          "model_name": "HTMLModel",
          "state": {
            "_view_name": "HTMLView",
            "style": "IPY_MODEL_5638467e881c480f927eeb2089d01a5b",
            "_dom_classes": [],
            "description": "",
            "_model_name": "HTMLModel",
            "placeholder": "​",
            "_view_module": "@jupyter-widgets/controls",
            "_model_module_version": "1.5.0",
            "value": " 32768/? [00:00&lt;00:00, 98219.65it/s]",
            "_view_count": null,
            "_view_module_version": "1.5.0",
            "description_tooltip": null,
            "_model_module": "@jupyter-widgets/controls",
            "layout": "IPY_MODEL_299116342a5148ed9f38d9b63d2db272"
          }
        },
        "bb96711f17cf49e5abcd642d5ceb808d": {
          "model_module": "@jupyter-widgets/controls",
          "model_name": "ProgressStyleModel",
          "state": {
            "_view_name": "StyleView",
            "_model_name": "ProgressStyleModel",
            "description_width": "initial",
            "_view_module": "@jupyter-widgets/base",
            "_model_module_version": "1.5.0",
            "_view_count": null,
            "_view_module_version": "1.2.0",
            "bar_color": null,
            "_model_module": "@jupyter-widgets/controls"
          }
        },
        "ad1834ca636c4b7099a828c7f594f521": {
          "model_module": "@jupyter-widgets/base",
          "model_name": "LayoutModel",
          "state": {
            "_view_name": "LayoutView",
            "grid_template_rows": null,
            "right": null,
            "justify_content": null,
            "_view_module": "@jupyter-widgets/base",
            "overflow": null,
            "_model_module_version": "1.2.0",
            "_view_count": null,
            "flex_flow": null,
            "width": null,
            "min_width": null,
            "border": null,
            "align_items": null,
            "bottom": null,
            "_model_module": "@jupyter-widgets/base",
            "top": null,
            "grid_column": null,
            "overflow_y": null,
            "overflow_x": null,
            "grid_auto_flow": null,
            "grid_area": null,
            "grid_template_columns": null,
            "flex": null,
            "_model_name": "LayoutModel",
            "justify_items": null,
            "grid_row": null,
            "max_height": null,
            "align_content": null,
            "visibility": null,
            "align_self": null,
            "height": null,
            "min_height": null,
            "padding": null,
            "grid_auto_rows": null,
            "grid_gap": null,
            "max_width": null,
            "order": null,
            "_view_module_version": "1.2.0",
            "grid_template_areas": null,
            "object_position": null,
            "object_fit": null,
            "grid_auto_columns": null,
            "margin": null,
            "display": null,
            "left": null
          }
        },
        "5638467e881c480f927eeb2089d01a5b": {
          "model_module": "@jupyter-widgets/controls",
          "model_name": "DescriptionStyleModel",
          "state": {
            "_view_name": "StyleView",
            "_model_name": "DescriptionStyleModel",
            "description_width": "",
            "_view_module": "@jupyter-widgets/base",
            "_model_module_version": "1.5.0",
            "_view_count": null,
            "_view_module_version": "1.2.0",
            "_model_module": "@jupyter-widgets/controls"
          }
        },
        "299116342a5148ed9f38d9b63d2db272": {
          "model_module": "@jupyter-widgets/base",
          "model_name": "LayoutModel",
          "state": {
            "_view_name": "LayoutView",
            "grid_template_rows": null,
            "right": null,
            "justify_content": null,
            "_view_module": "@jupyter-widgets/base",
            "overflow": null,
            "_model_module_version": "1.2.0",
            "_view_count": null,
            "flex_flow": null,
            "width": null,
            "min_width": null,
            "border": null,
            "align_items": null,
            "bottom": null,
            "_model_module": "@jupyter-widgets/base",
            "top": null,
            "grid_column": null,
            "overflow_y": null,
            "overflow_x": null,
            "grid_auto_flow": null,
            "grid_area": null,
            "grid_template_columns": null,
            "flex": null,
            "_model_name": "LayoutModel",
            "justify_items": null,
            "grid_row": null,
            "max_height": null,
            "align_content": null,
            "visibility": null,
            "align_self": null,
            "height": null,
            "min_height": null,
            "padding": null,
            "grid_auto_rows": null,
            "grid_gap": null,
            "max_width": null,
            "order": null,
            "_view_module_version": "1.2.0",
            "grid_template_areas": null,
            "object_position": null,
            "object_fit": null,
            "grid_auto_columns": null,
            "margin": null,
            "display": null,
            "left": null
          }
        },
        "fd72a06706674ce0ab0ff042647f96da": {
          "model_module": "@jupyter-widgets/controls",
          "model_name": "HBoxModel",
          "state": {
            "_view_name": "HBoxView",
            "_dom_classes": [],
            "_model_name": "HBoxModel",
            "_view_module": "@jupyter-widgets/controls",
            "_model_module_version": "1.5.0",
            "_view_count": null,
            "_view_module_version": "1.5.0",
            "box_style": "",
            "layout": "IPY_MODEL_de20541cb1094e64b3f498072591bb03",
            "_model_module": "@jupyter-widgets/controls",
            "children": [
              "IPY_MODEL_ea2d0c56c9a3432d9a654492d9d091a2",
              "IPY_MODEL_02de7c8366ff45649765d42e3e2da28c"
            ]
          }
        },
        "de20541cb1094e64b3f498072591bb03": {
          "model_module": "@jupyter-widgets/base",
          "model_name": "LayoutModel",
          "state": {
            "_view_name": "LayoutView",
            "grid_template_rows": null,
            "right": null,
            "justify_content": null,
            "_view_module": "@jupyter-widgets/base",
            "overflow": null,
            "_model_module_version": "1.2.0",
            "_view_count": null,
            "flex_flow": null,
            "width": null,
            "min_width": null,
            "border": null,
            "align_items": null,
            "bottom": null,
            "_model_module": "@jupyter-widgets/base",
            "top": null,
            "grid_column": null,
            "overflow_y": null,
            "overflow_x": null,
            "grid_auto_flow": null,
            "grid_area": null,
            "grid_template_columns": null,
            "flex": null,
            "_model_name": "LayoutModel",
            "justify_items": null,
            "grid_row": null,
            "max_height": null,
            "align_content": null,
            "visibility": null,
            "align_self": null,
            "height": null,
            "min_height": null,
            "padding": null,
            "grid_auto_rows": null,
            "grid_gap": null,
            "max_width": null,
            "order": null,
            "_view_module_version": "1.2.0",
            "grid_template_areas": null,
            "object_position": null,
            "object_fit": null,
            "grid_auto_columns": null,
            "margin": null,
            "display": null,
            "left": null
          }
        },
        "ea2d0c56c9a3432d9a654492d9d091a2": {
          "model_module": "@jupyter-widgets/controls",
          "model_name": "FloatProgressModel",
          "state": {
            "_view_name": "ProgressView",
            "style": "IPY_MODEL_af2b2034c2a6415ea60b62d2a7b539eb",
            "_dom_classes": [],
            "description": "",
            "_model_name": "FloatProgressModel",
            "bar_style": "success",
            "max": 1,
            "_view_module": "@jupyter-widgets/controls",
            "_model_module_version": "1.5.0",
            "value": 1,
            "_view_count": null,
            "_view_module_version": "1.5.0",
            "orientation": "horizontal",
            "min": 0,
            "description_tooltip": null,
            "_model_module": "@jupyter-widgets/controls",
            "layout": "IPY_MODEL_33a24f8c4a0b4917b5bfeccd9c20eb62"
          }
        },
        "02de7c8366ff45649765d42e3e2da28c": {
          "model_module": "@jupyter-widgets/controls",
          "model_name": "HTMLModel",
          "state": {
            "_view_name": "HTMLView",
            "style": "IPY_MODEL_a4aa117e940a42cfa108030be0246d71",
            "_dom_classes": [],
            "description": "",
            "_model_name": "HTMLModel",
            "placeholder": "​",
            "_view_module": "@jupyter-widgets/controls",
            "_model_module_version": "1.5.0",
            "value": " 1654784/? [00:00&lt;00:00, 6289337.11it/s]",
            "_view_count": null,
            "_view_module_version": "1.5.0",
            "description_tooltip": null,
            "_model_module": "@jupyter-widgets/controls",
            "layout": "IPY_MODEL_98e1dae45bdb4430b9bc2d05513ce5af"
          }
        },
        "af2b2034c2a6415ea60b62d2a7b539eb": {
          "model_module": "@jupyter-widgets/controls",
          "model_name": "ProgressStyleModel",
          "state": {
            "_view_name": "StyleView",
            "_model_name": "ProgressStyleModel",
            "description_width": "initial",
            "_view_module": "@jupyter-widgets/base",
            "_model_module_version": "1.5.0",
            "_view_count": null,
            "_view_module_version": "1.2.0",
            "bar_color": null,
            "_model_module": "@jupyter-widgets/controls"
          }
        },
        "33a24f8c4a0b4917b5bfeccd9c20eb62": {
          "model_module": "@jupyter-widgets/base",
          "model_name": "LayoutModel",
          "state": {
            "_view_name": "LayoutView",
            "grid_template_rows": null,
            "right": null,
            "justify_content": null,
            "_view_module": "@jupyter-widgets/base",
            "overflow": null,
            "_model_module_version": "1.2.0",
            "_view_count": null,
            "flex_flow": null,
            "width": null,
            "min_width": null,
            "border": null,
            "align_items": null,
            "bottom": null,
            "_model_module": "@jupyter-widgets/base",
            "top": null,
            "grid_column": null,
            "overflow_y": null,
            "overflow_x": null,
            "grid_auto_flow": null,
            "grid_area": null,
            "grid_template_columns": null,
            "flex": null,
            "_model_name": "LayoutModel",
            "justify_items": null,
            "grid_row": null,
            "max_height": null,
            "align_content": null,
            "visibility": null,
            "align_self": null,
            "height": null,
            "min_height": null,
            "padding": null,
            "grid_auto_rows": null,
            "grid_gap": null,
            "max_width": null,
            "order": null,
            "_view_module_version": "1.2.0",
            "grid_template_areas": null,
            "object_position": null,
            "object_fit": null,
            "grid_auto_columns": null,
            "margin": null,
            "display": null,
            "left": null
          }
        },
        "a4aa117e940a42cfa108030be0246d71": {
          "model_module": "@jupyter-widgets/controls",
          "model_name": "DescriptionStyleModel",
          "state": {
            "_view_name": "StyleView",
            "_model_name": "DescriptionStyleModel",
            "description_width": "",
            "_view_module": "@jupyter-widgets/base",
            "_model_module_version": "1.5.0",
            "_view_count": null,
            "_view_module_version": "1.2.0",
            "_model_module": "@jupyter-widgets/controls"
          }
        },
        "98e1dae45bdb4430b9bc2d05513ce5af": {
          "model_module": "@jupyter-widgets/base",
          "model_name": "LayoutModel",
          "state": {
            "_view_name": "LayoutView",
            "grid_template_rows": null,
            "right": null,
            "justify_content": null,
            "_view_module": "@jupyter-widgets/base",
            "overflow": null,
            "_model_module_version": "1.2.0",
            "_view_count": null,
            "flex_flow": null,
            "width": null,
            "min_width": null,
            "border": null,
            "align_items": null,
            "bottom": null,
            "_model_module": "@jupyter-widgets/base",
            "top": null,
            "grid_column": null,
            "overflow_y": null,
            "overflow_x": null,
            "grid_auto_flow": null,
            "grid_area": null,
            "grid_template_columns": null,
            "flex": null,
            "_model_name": "LayoutModel",
            "justify_items": null,
            "grid_row": null,
            "max_height": null,
            "align_content": null,
            "visibility": null,
            "align_self": null,
            "height": null,
            "min_height": null,
            "padding": null,
            "grid_auto_rows": null,
            "grid_gap": null,
            "max_width": null,
            "order": null,
            "_view_module_version": "1.2.0",
            "grid_template_areas": null,
            "object_position": null,
            "object_fit": null,
            "grid_auto_columns": null,
            "margin": null,
            "display": null,
            "left": null
          }
        },
        "9dcfb8d8066a462cb6c9d6c77789cf91": {
          "model_module": "@jupyter-widgets/controls",
          "model_name": "HBoxModel",
          "state": {
            "_view_name": "HBoxView",
            "_dom_classes": [],
            "_model_name": "HBoxModel",
            "_view_module": "@jupyter-widgets/controls",
            "_model_module_version": "1.5.0",
            "_view_count": null,
            "_view_module_version": "1.5.0",
            "box_style": "",
            "layout": "IPY_MODEL_01d36f32e63b4780b8f1355c0dceea24",
            "_model_module": "@jupyter-widgets/controls",
            "children": [
              "IPY_MODEL_95452e0db334416e837c98c6d20f179e",
              "IPY_MODEL_b76204bb84264998b486f28a8ad8f945"
            ]
          }
        },
        "01d36f32e63b4780b8f1355c0dceea24": {
          "model_module": "@jupyter-widgets/base",
          "model_name": "LayoutModel",
          "state": {
            "_view_name": "LayoutView",
            "grid_template_rows": null,
            "right": null,
            "justify_content": null,
            "_view_module": "@jupyter-widgets/base",
            "overflow": null,
            "_model_module_version": "1.2.0",
            "_view_count": null,
            "flex_flow": null,
            "width": null,
            "min_width": null,
            "border": null,
            "align_items": null,
            "bottom": null,
            "_model_module": "@jupyter-widgets/base",
            "top": null,
            "grid_column": null,
            "overflow_y": null,
            "overflow_x": null,
            "grid_auto_flow": null,
            "grid_area": null,
            "grid_template_columns": null,
            "flex": null,
            "_model_name": "LayoutModel",
            "justify_items": null,
            "grid_row": null,
            "max_height": null,
            "align_content": null,
            "visibility": null,
            "align_self": null,
            "height": null,
            "min_height": null,
            "padding": null,
            "grid_auto_rows": null,
            "grid_gap": null,
            "max_width": null,
            "order": null,
            "_view_module_version": "1.2.0",
            "grid_template_areas": null,
            "object_position": null,
            "object_fit": null,
            "grid_auto_columns": null,
            "margin": null,
            "display": null,
            "left": null
          }
        },
        "95452e0db334416e837c98c6d20f179e": {
          "model_module": "@jupyter-widgets/controls",
          "model_name": "FloatProgressModel",
          "state": {
            "_view_name": "ProgressView",
            "style": "IPY_MODEL_ea96434b7a8041a08343b79896b6d4c5",
            "_dom_classes": [],
            "description": "",
            "_model_name": "FloatProgressModel",
            "bar_style": "success",
            "max": 1,
            "_view_module": "@jupyter-widgets/controls",
            "_model_module_version": "1.5.0",
            "value": 1,
            "_view_count": null,
            "_view_module_version": "1.5.0",
            "orientation": "horizontal",
            "min": 0,
            "description_tooltip": null,
            "_model_module": "@jupyter-widgets/controls",
            "layout": "IPY_MODEL_9f9786eb58254434bad7f3b70c1d46b9"
          }
        },
        "b76204bb84264998b486f28a8ad8f945": {
          "model_module": "@jupyter-widgets/controls",
          "model_name": "HTMLModel",
          "state": {
            "_view_name": "HTMLView",
            "style": "IPY_MODEL_53cb5ef640024e63836b227502241091",
            "_dom_classes": [],
            "description": "",
            "_model_name": "HTMLModel",
            "placeholder": "​",
            "_view_module": "@jupyter-widgets/controls",
            "_model_module_version": "1.5.0",
            "value": " 8192/? [00:00&lt;00:00, 16407.66it/s]",
            "_view_count": null,
            "_view_module_version": "1.5.0",
            "description_tooltip": null,
            "_model_module": "@jupyter-widgets/controls",
            "layout": "IPY_MODEL_0753c464545249fe8a5f4d2f03fe0f41"
          }
        },
        "ea96434b7a8041a08343b79896b6d4c5": {
          "model_module": "@jupyter-widgets/controls",
          "model_name": "ProgressStyleModel",
          "state": {
            "_view_name": "StyleView",
            "_model_name": "ProgressStyleModel",
            "description_width": "initial",
            "_view_module": "@jupyter-widgets/base",
            "_model_module_version": "1.5.0",
            "_view_count": null,
            "_view_module_version": "1.2.0",
            "bar_color": null,
            "_model_module": "@jupyter-widgets/controls"
          }
        },
        "9f9786eb58254434bad7f3b70c1d46b9": {
          "model_module": "@jupyter-widgets/base",
          "model_name": "LayoutModel",
          "state": {
            "_view_name": "LayoutView",
            "grid_template_rows": null,
            "right": null,
            "justify_content": null,
            "_view_module": "@jupyter-widgets/base",
            "overflow": null,
            "_model_module_version": "1.2.0",
            "_view_count": null,
            "flex_flow": null,
            "width": null,
            "min_width": null,
            "border": null,
            "align_items": null,
            "bottom": null,
            "_model_module": "@jupyter-widgets/base",
            "top": null,
            "grid_column": null,
            "overflow_y": null,
            "overflow_x": null,
            "grid_auto_flow": null,
            "grid_area": null,
            "grid_template_columns": null,
            "flex": null,
            "_model_name": "LayoutModel",
            "justify_items": null,
            "grid_row": null,
            "max_height": null,
            "align_content": null,
            "visibility": null,
            "align_self": null,
            "height": null,
            "min_height": null,
            "padding": null,
            "grid_auto_rows": null,
            "grid_gap": null,
            "max_width": null,
            "order": null,
            "_view_module_version": "1.2.0",
            "grid_template_areas": null,
            "object_position": null,
            "object_fit": null,
            "grid_auto_columns": null,
            "margin": null,
            "display": null,
            "left": null
          }
        },
        "53cb5ef640024e63836b227502241091": {
          "model_module": "@jupyter-widgets/controls",
          "model_name": "DescriptionStyleModel",
          "state": {
            "_view_name": "StyleView",
            "_model_name": "DescriptionStyleModel",
            "description_width": "",
            "_view_module": "@jupyter-widgets/base",
            "_model_module_version": "1.5.0",
            "_view_count": null,
            "_view_module_version": "1.2.0",
            "_model_module": "@jupyter-widgets/controls"
          }
        },
        "0753c464545249fe8a5f4d2f03fe0f41": {
          "model_module": "@jupyter-widgets/base",
          "model_name": "LayoutModel",
          "state": {
            "_view_name": "LayoutView",
            "grid_template_rows": null,
            "right": null,
            "justify_content": null,
            "_view_module": "@jupyter-widgets/base",
            "overflow": null,
            "_model_module_version": "1.2.0",
            "_view_count": null,
            "flex_flow": null,
            "width": null,
            "min_width": null,
            "border": null,
            "align_items": null,
            "bottom": null,
            "_model_module": "@jupyter-widgets/base",
            "top": null,
            "grid_column": null,
            "overflow_y": null,
            "overflow_x": null,
            "grid_auto_flow": null,
            "grid_area": null,
            "grid_template_columns": null,
            "flex": null,
            "_model_name": "LayoutModel",
            "justify_items": null,
            "grid_row": null,
            "max_height": null,
            "align_content": null,
            "visibility": null,
            "align_self": null,
            "height": null,
            "min_height": null,
            "padding": null,
            "grid_auto_rows": null,
            "grid_gap": null,
            "max_width": null,
            "order": null,
            "_view_module_version": "1.2.0",
            "grid_template_areas": null,
            "object_position": null,
            "object_fit": null,
            "grid_auto_columns": null,
            "margin": null,
            "display": null,
            "left": null
          }
        }
      }
    }
  },
  "cells": [
    {
      "cell_type": "markdown",
      "metadata": {
        "id": "view-in-github",
        "colab_type": "text"
      },
      "source": [
        "<a href=\"https://colab.research.google.com/github/subro12/fastbook/blob/master/Feed_forward_self.ipynb\" target=\"_parent\"><img src=\"https://colab.research.google.com/assets/colab-badge.svg\" alt=\"Open In Colab\"/></a>"
      ]
    },
    {
      "cell_type": "code",
      "metadata": {
        "id": "JnqKiXSPT1x8"
      },
      "source": [
        "# Jovian Commit Essentials\r\n",
        "# Please retain and execute this cell without modifying the contents for `jovian.commit` to work\r\n",
        "!pip install jovian --upgrade -q\r\n",
        "import jovian"
      ],
      "execution_count": 64,
      "outputs": []
    },
    {
      "cell_type": "code",
      "metadata": {
        "id": "xW0B0U3yT47n"
      },
      "source": [
        "import torch\r\n",
        "import torchvision\r\n",
        "from torchvision.datasets import MNIST \r\n",
        "from torchvision.transforms import ToTensor \r\n",
        "from torch.utils.data.dataset import random_split\r\n",
        "from torch.utils.data import DataLoader\r\n",
        "from torchvision.utils import make_grid\r\n",
        "import torch.nn as nn\r\n",
        "import torch.nn.functional as F\r\n",
        "\r\n",
        "import numpy as np\r\n",
        "import pandas as pd\r\n",
        "\r\n",
        "import matplotlib.pyplot as plt\r\n",
        "%matplotlib inline\r\n"
      ],
      "execution_count": 2,
      "outputs": []
    },
    {
      "cell_type": "code",
      "metadata": {
        "colab": {
          "base_uri": "https://localhost:8080/",
          "height": 400,
          "referenced_widgets": [
            "80584e360d8e4e4b9c565fd90c07fa56",
            "18ef3a478dfa429db781773c20b154a8",
            "802c671760414930ba85ba02be4055dd",
            "d5ba1f2cc44b45fe9c5a35b57997aac5",
            "4fd70a31212a486796aaf803b94ce59c",
            "584b18c6e08a4a2399c1fa3d065e473c",
            "7ea481a3113149a7a44d5275b82e7a61",
            "7a0e22202d45433781320ec2dbb62c83",
            "88828bb607cb4f77b3f99e971d2186b5",
            "d63e7a8e9937441db786e7f6a9e7b05b",
            "741278e92e88497eb883586163b9f03c",
            "f5d0cd9bb73b49989aed7fce039cc40e",
            "bb96711f17cf49e5abcd642d5ceb808d",
            "ad1834ca636c4b7099a828c7f594f521",
            "5638467e881c480f927eeb2089d01a5b",
            "299116342a5148ed9f38d9b63d2db272",
            "fd72a06706674ce0ab0ff042647f96da",
            "de20541cb1094e64b3f498072591bb03",
            "ea2d0c56c9a3432d9a654492d9d091a2",
            "02de7c8366ff45649765d42e3e2da28c",
            "af2b2034c2a6415ea60b62d2a7b539eb",
            "33a24f8c4a0b4917b5bfeccd9c20eb62",
            "a4aa117e940a42cfa108030be0246d71",
            "98e1dae45bdb4430b9bc2d05513ce5af",
            "9dcfb8d8066a462cb6c9d6c77789cf91",
            "01d36f32e63b4780b8f1355c0dceea24",
            "95452e0db334416e837c98c6d20f179e",
            "b76204bb84264998b486f28a8ad8f945",
            "ea96434b7a8041a08343b79896b6d4c5",
            "9f9786eb58254434bad7f3b70c1d46b9",
            "53cb5ef640024e63836b227502241091",
            "0753c464545249fe8a5f4d2f03fe0f41"
          ]
        },
        "id": "EJHg6ZqQUDXS",
        "outputId": "e291e7cf-17e1-4632-9ff9-170049e1cec2"
      },
      "source": [
        "dataset = MNIST(root='data/',download=True,transform=ToTensor(),train=True)"
      ],
      "execution_count": 3,
      "outputs": [
        {
          "output_type": "stream",
          "text": [
            "Downloading http://yann.lecun.com/exdb/mnist/train-images-idx3-ubyte.gz to data/MNIST/raw/train-images-idx3-ubyte.gz\n"
          ],
          "name": "stdout"
        },
        {
          "output_type": "display_data",
          "data": {
            "application/vnd.jupyter.widget-view+json": {
              "model_id": "80584e360d8e4e4b9c565fd90c07fa56",
              "version_minor": 0,
              "version_major": 2
            },
            "text/plain": [
              "HBox(children=(FloatProgress(value=1.0, bar_style='info', max=1.0), HTML(value='')))"
            ]
          },
          "metadata": {
            "tags": []
          }
        },
        {
          "output_type": "stream",
          "text": [
            "Extracting data/MNIST/raw/train-images-idx3-ubyte.gz to data/MNIST/raw\n",
            "Downloading http://yann.lecun.com/exdb/mnist/train-labels-idx1-ubyte.gz to data/MNIST/raw/train-labels-idx1-ubyte.gz\n"
          ],
          "name": "stdout"
        },
        {
          "output_type": "display_data",
          "data": {
            "application/vnd.jupyter.widget-view+json": {
              "model_id": "88828bb607cb4f77b3f99e971d2186b5",
              "version_minor": 0,
              "version_major": 2
            },
            "text/plain": [
              "HBox(children=(FloatProgress(value=1.0, bar_style='info', max=1.0), HTML(value='')))"
            ]
          },
          "metadata": {
            "tags": []
          }
        },
        {
          "output_type": "stream",
          "text": [
            "Extracting data/MNIST/raw/train-labels-idx1-ubyte.gz to data/MNIST/raw\n",
            "Downloading http://yann.lecun.com/exdb/mnist/t10k-images-idx3-ubyte.gz to data/MNIST/raw/t10k-images-idx3-ubyte.gz\n"
          ],
          "name": "stdout"
        },
        {
          "output_type": "display_data",
          "data": {
            "application/vnd.jupyter.widget-view+json": {
              "model_id": "fd72a06706674ce0ab0ff042647f96da",
              "version_minor": 0,
              "version_major": 2
            },
            "text/plain": [
              "HBox(children=(FloatProgress(value=1.0, bar_style='info', max=1.0), HTML(value='')))"
            ]
          },
          "metadata": {
            "tags": []
          }
        },
        {
          "output_type": "stream",
          "text": [
            "Extracting data/MNIST/raw/t10k-images-idx3-ubyte.gz to data/MNIST/raw\n",
            "Downloading http://yann.lecun.com/exdb/mnist/t10k-labels-idx1-ubyte.gz to data/MNIST/raw/t10k-labels-idx1-ubyte.gz\n",
            "\n",
            "\n"
          ],
          "name": "stdout"
        },
        {
          "output_type": "display_data",
          "data": {
            "application/vnd.jupyter.widget-view+json": {
              "model_id": "9dcfb8d8066a462cb6c9d6c77789cf91",
              "version_minor": 0,
              "version_major": 2
            },
            "text/plain": [
              "HBox(children=(FloatProgress(value=1.0, bar_style='info', max=1.0), HTML(value='')))"
            ]
          },
          "metadata": {
            "tags": []
          }
        },
        {
          "output_type": "stream",
          "text": [
            "Extracting data/MNIST/raw/t10k-labels-idx1-ubyte.gz to data/MNIST/raw\n",
            "Processing...\n",
            "Done!\n"
          ],
          "name": "stdout"
        },
        {
          "output_type": "stream",
          "text": [
            "/usr/local/lib/python3.6/dist-packages/torchvision/datasets/mnist.py:480: UserWarning: The given NumPy array is not writeable, and PyTorch does not support non-writeable tensors. This means you can write to the underlying (supposedly non-writeable) NumPy array using the tensor. You may want to copy the array to protect its data or make it writeable before converting it to a tensor. This type of warning will be suppressed for the rest of this program. (Triggered internally at  /pytorch/torch/csrc/utils/tensor_numpy.cpp:141.)\n",
            "  return torch.from_numpy(parsed.astype(m[2], copy=False)).view(*s)\n"
          ],
          "name": "stderr"
        }
      ]
    },
    {
      "cell_type": "code",
      "metadata": {
        "colab": {
          "base_uri": "https://localhost:8080/"
        },
        "id": "GZN12iCbXVte",
        "outputId": "3a2dcfa8-4c9d-4077-e1ae-1a5100294938"
      },
      "source": [
        "len(dataset)"
      ],
      "execution_count": 4,
      "outputs": [
        {
          "output_type": "execute_result",
          "data": {
            "text/plain": [
              "60000"
            ]
          },
          "metadata": {
            "tags": []
          },
          "execution_count": 4
        }
      ]
    },
    {
      "cell_type": "code",
      "metadata": {
        "colab": {
          "base_uri": "https://localhost:8080/",
          "height": 332
        },
        "id": "yCxVophcXjUR",
        "outputId": "b554390e-fbf7-4b22-f156-901e76e9ffff"
      },
      "source": [
        "image, label = dataset[0]\r\n",
        "print('image.shape:',image.shape)\r\n",
        "plt.imshow(image[0],cmap='gray')\r\n",
        "print('label:',label)"
      ],
      "execution_count": 5,
      "outputs": [
        {
          "output_type": "stream",
          "text": [
            "image.shape: torch.Size([1, 28, 28])\n",
            "label: 5\n"
          ],
          "name": "stdout"
        },
        {
          "output_type": "display_data",
          "data": {
            "image/png": "[encoded data removed]",
            "text/plain": [
              "<Figure size 432x288 with 1 Axes>"
            ]
          },
          "metadata": {
            "tags": [],
            "needs_background": "light"
          }
        },
        {
          "output_type": "stream",
          "text": [
            "\n",
            "\n"
          ],
          "name": "stdout"
        }
      ]
    },
    {
      "cell_type": "markdown",
      "metadata": {
        "id": "iW2tmvB1X0sZ"
      },
      "source": [
        "Another way of showing Image using premute"
      ]
    },
    {
      "cell_type": "code",
      "metadata": {
        "colab": {
          "base_uri": "https://localhost:8080/"
        },
        "id": "U9xBKqzqX3-k",
        "outputId": "7b161213-53ee-4ea1-b95f-c3656dc55662"
      },
      "source": [
        "# Not working need to check this\r\n",
        "# understanding squeeze and unsqueeze functions\r\n",
        "print(image.unsqueeze(dim=1).shape)\r\n",
        "print(image.squeeze().shape)"
      ],
      "execution_count": 6,
      "outputs": [
        {
          "output_type": "stream",
          "text": [
            "torch.Size([1, 1, 28, 28])\n",
            "torch.Size([28, 28])\n"
          ],
          "name": "stdout"
        }
      ]
    },
    {
      "cell_type": "code",
      "metadata": {
        "id": "H2rzAPD8XA3Q"
      },
      "source": [
        "train_ds,vali_ds = random_split(dataset,[50000,10000])"
      ],
      "execution_count": 7,
      "outputs": []
    },
    {
      "cell_type": "code",
      "metadata": {
        "colab": {
          "base_uri": "https://localhost:8080/"
        },
        "id": "P1C0nUgMXVAo",
        "outputId": "9e411de7-42e0-4df8-c443-4d25d6053048"
      },
      "source": [
        "len(train_ds),len(vali_ds)"
      ],
      "execution_count": 8,
      "outputs": [
        {
          "output_type": "execute_result",
          "data": {
            "text/plain": [
              "(50000, 10000)"
            ]
          },
          "metadata": {
            "tags": []
          },
          "execution_count": 8
        }
      ]
    },
    {
      "cell_type": "markdown",
      "metadata": {
        "id": "HlYeR85oYZtc"
      },
      "source": [
        "As, we have divided into train and validation datasets, lets build dataloaders, using `dataloader` function "
      ]
    },
    {
      "cell_type": "code",
      "metadata": {
        "id": "TZt4wa54Xgjf"
      },
      "source": [
        "batch_size=128\r\n",
        "train_loader = DataLoader(train_ds,batch_size=batch_size,shuffle=True,num_workers=4,pin_memory=True)\r\n",
        "val_loader = DataLoader(vali_ds,batch_size=batch_size,num_workers=4,pin_memory=True)"
      ],
      "execution_count": 9,
      "outputs": []
    },
    {
      "cell_type": "markdown",
      "metadata": {
        "id": "XjjxBp2kZu0p"
      },
      "source": [
        "lets try to see a batch of images, how do they look like, lets use `make_grid` function"
      ]
    },
    {
      "cell_type": "code",
      "metadata": {
        "colab": {
          "base_uri": "https://localhost:8080/",
          "height": 483
        },
        "id": "nO8OKekqZuSX",
        "outputId": "4edea39d-3732-4931-90ec-d2af8a52f639"
      },
      "source": [
        "for images, labels in train_loader:\r\n",
        "  print('images.shape:',images.shape)\r\n",
        "  plt.figure(figsize=(16,8))\r\n",
        "  plt.imshow(make_grid(images, nrow=16).permute((1,2,0)))\r\n",
        "  plt.axis('off')\r\n",
        "  break"
      ],
      "execution_count": 10,
      "outputs": [
        {
          "output_type": "stream",
          "text": [
            "images.shape: torch.Size([128, 1, 28, 28])\n"
          ],
          "name": "stdout"
        },
        {
          "output_type": "display_data",
          "data": {
            "image/png": "[encoded data removed]",
            "text/plain": [
              "<Figure size 1152x576 with 1 Axes>"
            ]
          },
          "metadata": {
            "tags": [],
            "needs_background": "light"
          }
        }
      ]
    },
    {
      "cell_type": "markdown",
      "metadata": {
        "id": "v8JZcadOdXbC"
      },
      "source": [
        "But our inputs dimension is `[128,1,28,28]` Lets flatten for one batch "
      ]
    },
    {
      "cell_type": "code",
      "metadata": {
        "colab": {
          "base_uri": "https://localhost:8080/"
        },
        "id": "RHBqX7IwdWxi",
        "outputId": "7f11157f-c3a8-43ac-a72f-6ea0d1667f30"
      },
      "source": [
        "for images, labels in train_loader:\r\n",
        "  print('images.shape: ',images.shape)\r\n",
        "  inputs = images.reshape(-1, 28*28)\r\n",
        "  print('images.shape: ',inputs.shape)\r\n",
        "  break"
      ],
      "execution_count": 11,
      "outputs": [
        {
          "output_type": "stream",
          "text": [
            "images.shape:  torch.Size([128, 1, 28, 28])\n",
            "images.shape:  torch.Size([128, 784])\n"
          ],
          "name": "stdout"
        }
      ]
    },
    {
      "cell_type": "markdown",
      "metadata": {
        "id": "0PWxjn5odCu6"
      },
      "source": [
        "Lets build our network with 2 layers, 1 is hidden layer another with output layer. So,"
      ]
    },
    {
      "cell_type": "code",
      "metadata": {
        "id": "Smed2MePazkD"
      },
      "source": [
        "# layer1-784x32\r\n",
        "# layer2- 32x10\r\n",
        "input_size=inputs.shape[-1]\r\n",
        "# print(input_size)\r\n",
        "hidden_size=32\r\n",
        "# fprint(input_size,)\r\n",
        "layer1 = nn.Linear(input_size,hidden_size)\r\n",
        "# print(layer1.parameters)\r\n",
        "# when we created nn.Linear or layer1 it will automatically creates weight and\r\n",
        "# bias for the layer, So, you can print them as below\r\n",
        "# print(layer1.weight,layer1.bias)"
      ],
      "execution_count": 12,
      "outputs": []
    },
    {
      "cell_type": "code",
      "metadata": {
        "colab": {
          "base_uri": "https://localhost:8080/"
        },
        "id": "WwD9IydXe8Tf",
        "outputId": "bc1c7c76-d89f-4256-920b-73cf27cfbfd0"
      },
      "source": [
        "layer1_outputs = inputs @ layer1.weight.t() + layer1.bias\r\n",
        "print(layer1_outputs.shape)"
      ],
      "execution_count": 13,
      "outputs": [
        {
          "output_type": "stream",
          "text": [
            "torch.Size([128, 32])\n"
          ],
          "name": "stdout"
        }
      ]
    },
    {
      "cell_type": "code",
      "metadata": {
        "colab": {
          "base_uri": "https://localhost:8080/"
        },
        "id": "ie5IcPjufMqy",
        "outputId": "31bf1546-7b72-4ab0-fd45-916775b1c54c"
      },
      "source": [
        "layer1_outputs_direct = layer1(inputs)\r\n",
        "print(layer1_outputs_direct.shape)"
      ],
      "execution_count": 14,
      "outputs": [
        {
          "output_type": "stream",
          "text": [
            "torch.Size([128, 32])\n"
          ],
          "name": "stdout"
        }
      ]
    },
    {
      "cell_type": "markdown",
      "metadata": {
        "id": "SAloofH7fY43"
      },
      "source": [
        "we can compare both using` torch.allclose`"
      ]
    },
    {
      "cell_type": "code",
      "metadata": {
        "colab": {
          "base_uri": "https://localhost:8080/"
        },
        "id": "NbVZW-MlfYcX",
        "outputId": "6d43fbff-0c1d-4db1-f443-05eba94cccbf"
      },
      "source": [
        "torch.allclose(layer1_outputs, layer1_outputs_direct,1e-3)"
      ],
      "execution_count": 15,
      "outputs": [
        {
          "output_type": "execute_result",
          "data": {
            "text/plain": [
              "True"
            ]
          },
          "metadata": {
            "tags": []
          },
          "execution_count": 15
        }
      ]
    },
    {
      "cell_type": "markdown",
      "metadata": {
        "id": "L5yc954-fovW"
      },
      "source": [
        "Looks both are same, lets, apply `relu` function on layer1 outputs to create non-linearity between layers and send to layer2."
      ]
    },
    {
      "cell_type": "code",
      "metadata": {
        "id": "osDF8anYflsp"
      },
      "source": [
        "relu_outputs = F.relu(layer1_outputs)"
      ],
      "execution_count": 16,
      "outputs": []
    },
    {
      "cell_type": "code",
      "metadata": {
        "id": "cSl4DAEQgT76"
      },
      "source": [
        "output_size=10\r\n",
        "layer2 = nn.Linear(hidden_size,output_size)"
      ],
      "execution_count": 17,
      "outputs": []
    },
    {
      "cell_type": "code",
      "metadata": {
        "colab": {
          "base_uri": "https://localhost:8080/"
        },
        "id": "z-QHbaoaVUpy",
        "outputId": "6298d984-9b62-4573-ddd3-79e73123df15"
      },
      "source": [
        "print(layer2.weight.shape,layer2.bias)\r\n",
        "print(relu_outputs.shape)"
      ],
      "execution_count": 18,
      "outputs": [
        {
          "output_type": "stream",
          "text": [
            "torch.Size([10, 32]) Parameter containing:\n",
            "tensor([-0.0756, -0.1067,  0.0199,  0.0788, -0.0775, -0.0608,  0.1120, -0.0618,\n",
            "        -0.1237,  0.0652], requires_grad=True)\n",
            "torch.Size([128, 32])\n"
          ],
          "name": "stdout"
        }
      ]
    },
    {
      "cell_type": "code",
      "metadata": {
        "id": "0YrMc08HVFba"
      },
      "source": [
        "layer2_direct_outputs = relu_outputs @ layer2.weight.t() + layer2.bias"
      ],
      "execution_count": 19,
      "outputs": []
    },
    {
      "cell_type": "code",
      "metadata": {
        "id": "jPNDhMUfVjkK"
      },
      "source": [
        "layer2_outputs = layer2(relu_outputs)"
      ],
      "execution_count": 20,
      "outputs": []
    },
    {
      "cell_type": "code",
      "metadata": {
        "colab": {
          "base_uri": "https://localhost:8080/"
        },
        "id": "rW_6hlwLVqNb",
        "outputId": "9baef347-6e09-4a8c-dbe8-829ccdc8a2dd"
      },
      "source": [
        "torch.allclose(layer2_outputs, layer2_direct_outputs,1e-3)"
      ],
      "execution_count": 21,
      "outputs": [
        {
          "output_type": "execute_result",
          "data": {
            "text/plain": [
              "True"
            ]
          },
          "metadata": {
            "tags": []
          },
          "execution_count": 21
        }
      ]
    },
    {
      "cell_type": "code",
      "metadata": {
        "id": "zUm1flMRV4nn"
      },
      "source": [
        "class MnistModel(nn.Module):\r\n",
        "  def __init__(self, input_size, hidden_size, output_size):\r\n",
        "    super().__init__()\r\n",
        "    self.linear1 = nn.Linear(input_size,hidden_size)\r\n",
        "\r\n",
        "    self.linear2 = nn.Linear(hidden_size, output_size)\r\n",
        "\r\n",
        "  def forward(self, xb):\r\n",
        "    xb = xb.view(xb.size(0), -1)\r\n",
        "    out = self.linear1(xb)\r\n",
        "    out = F.relu(out)\r\n",
        "    out = self.linear2(out)\r\n",
        "    return out\r\n",
        "\r\n",
        "  def training_step(self, xb):\r\n",
        "    \"\"\" this is to calculate training error and training accuracy of the data \"\"\"\r\n",
        "    images, labels = xb\r\n",
        "    out = self(images)\r\n",
        "    loss = F.cross_entropy(out,labels)\r\n",
        "    return loss\r\n",
        "\r\n",
        "  def validation_step(self, xb):\r\n",
        "    images, labels = xb\r\n",
        "    out = self(images)\r\n",
        "    loss = F.cross_entropy(out, labels)\r\n",
        "    acc = accuracy(out, labels)\r\n",
        "    return {'val_loss': loss, 'val_accuracy': acc}\r\n",
        "\r\n",
        "  def validation_epoch_end(self, outputs):\r\n",
        "    batch_losses = [x['val_loss'] for x in outputs]\r\n",
        "    epoch_loss = torch.stack(batch_losses).mean()\r\n",
        "    batch_acc = [x['val_accuracy'] for x in outputs]\r\n",
        "    epoch_acc = torch.stack(batch_acc).mean()\r\n",
        "    return {'val_loss': epoch_loss.item(), 'val_acc': epoch_acc.item()}\r\n",
        "\r\n",
        "  def epoch_end(self, epoch, result):\r\n",
        "    print(\"Epoch: {}, val_loss: {:.4f}, val_acc: {:.4f}\".format(epoch, result['val_loss'],result['val_acc']))\r\n",
        "\r\n",
        "\r\n",
        "\r\n"
      ],
      "execution_count": 22,
      "outputs": []
    },
    {
      "cell_type": "code",
      "metadata": {
        "id": "gFMeRP_yZYI7"
      },
      "source": [
        "# rather than calculating softmax, we are taking the one which has highest output\r\n",
        "def accuracy(out,labels):\r\n",
        "  _, preds = torch.max(out,dim=1)\r\n",
        "  \r\n",
        "  return torch.tensor(torch.sum(preds==labels).item() / len(preds))"
      ],
      "execution_count": 23,
      "outputs": []
    },
    {
      "cell_type": "code",
      "metadata": {
        "id": "HMCStE5CZ0wc"
      },
      "source": [
        "input_size = 784\r\n",
        "hidden_size = 32\r\n",
        "output_size = 10"
      ],
      "execution_count": 24,
      "outputs": []
    },
    {
      "cell_type": "code",
      "metadata": {
        "id": "ckCAbagyaBJn"
      },
      "source": [
        "model = MnistModel(input_size,hidden_size,output_size)"
      ],
      "execution_count": 25,
      "outputs": []
    },
    {
      "cell_type": "code",
      "metadata": {
        "colab": {
          "base_uri": "https://localhost:8080/"
        },
        "id": "iWaw9JSiaIqH",
        "outputId": "1d85e7ba-2fb2-4952-c294-e1bb26d3fae1"
      },
      "source": [
        "for x in model.parameters():\r\n",
        "  print(x.shape)"
      ],
      "execution_count": 26,
      "outputs": [
        {
          "output_type": "stream",
          "text": [
            "torch.Size([32, 784])\n",
            "torch.Size([32])\n",
            "torch.Size([10, 32])\n",
            "torch.Size([10])\n"
          ],
          "name": "stdout"
        }
      ]
    },
    {
      "cell_type": "markdown",
      "metadata": {
        "id": "tappIP2makQ0"
      },
      "source": [
        "lets check accuracy for one batch.\r\n"
      ]
    },
    {
      "cell_type": "code",
      "metadata": {
        "colab": {
          "base_uri": "https://localhost:8080/",
          "height": 349
        },
        "id": "Jwo9QtzSaj8M",
        "outputId": "ed37c079-bd3b-45c4-f345-c127e514e962"
      },
      "source": [
        "for images,labels in train_loader:\r\n",
        "  outputs = model(images)\r\n",
        "  loss = F.cross_entropy(outputs,labels)\r\n",
        "  print('Loss:',loss.item())\r\n",
        "  print(images[0][0].shape)\r\n",
        "  plt.imshow(images[0][0],cmap='gray')\r\n",
        "  break\r\n",
        "\r\n",
        "# less check loss \r\n",
        "print('outputs.shape :',outputs.shape)\r\n",
        "print('Sample outputs: ',outputs[0])\r\n"
      ],
      "execution_count": 27,
      "outputs": [
        {
          "output_type": "stream",
          "text": [
            "Loss: 2.291686773300171\n",
            "torch.Size([28, 28])\n",
            "outputs.shape : torch.Size([128, 10])\n",
            "Sample outputs:  tensor([ 0.0253,  0.1681,  0.0502,  0.0909,  0.2053, -0.0079,  0.1773,  0.1060,\n",
            "        -0.0736, -0.1795], grad_fn=<SelectBackward>)\n"
          ],
          "name": "stdout"
        },
        {
          "output_type": "display_data",
          "data": {
            "image/png": "[encoded data removed]",
            "text/plain": [
              "<Figure size 432x288 with 1 Axes>"
            ]
          },
          "metadata": {
            "tags": [],
            "needs_background": "light"
          }
        }
      ]
    },
    {
      "cell_type": "markdown",
      "metadata": {
        "id": "7T2AESvacQGz"
      },
      "source": [
        "Let's move all our code and data to `GPU`"
      ]
    },
    {
      "cell_type": "code",
      "metadata": {
        "colab": {
          "base_uri": "https://localhost:8080/"
        },
        "id": "woHTiLgOaTD3",
        "outputId": "c0df028b-837a-4990-faf2-0b4e87ba2fa7"
      },
      "source": [
        "torch.cuda.is_available()"
      ],
      "execution_count": 28,
      "outputs": [
        {
          "output_type": "execute_result",
          "data": {
            "text/plain": [
              "True"
            ]
          },
          "metadata": {
            "tags": []
          },
          "execution_count": 28
        }
      ]
    },
    {
      "cell_type": "code",
      "metadata": {
        "id": "__Ghg0i4canP"
      },
      "source": [
        "def get_default_device():\r\n",
        "  if torch.cuda.is_available():\r\n",
        "    return torch.device('cuda')\r\n",
        "  return torch.device('cpu')"
      ],
      "execution_count": 29,
      "outputs": []
    },
    {
      "cell_type": "code",
      "metadata": {
        "colab": {
          "base_uri": "https://localhost:8080/"
        },
        "id": "sz-9ImW5cvLI",
        "outputId": "23461c37-9986-466a-887c-1bc0a85e8d81"
      },
      "source": [
        "device = get_default_device()\r\n",
        "print(device)"
      ],
      "execution_count": 30,
      "outputs": [
        {
          "output_type": "stream",
          "text": [
            "cuda\n"
          ],
          "name": "stdout"
        }
      ]
    },
    {
      "cell_type": "code",
      "metadata": {
        "id": "Xwvm1Z6gc49K"
      },
      "source": [
        "def to_device(data, device):\r\n",
        "  if isinstance(data, (list,tuple)):\r\n",
        "    return [to_device(x, device) for x in data]\r\n",
        "  return data.to(device, non_blocking=True)"
      ],
      "execution_count": 31,
      "outputs": []
    },
    {
      "cell_type": "markdown",
      "metadata": {
        "id": "UXjzoa1yipVW"
      },
      "source": [
        "lets check `to_device` method for one batch, and check it is working properly or not"
      ]
    },
    {
      "cell_type": "code",
      "metadata": {
        "colab": {
          "base_uri": "https://localhost:8080/"
        },
        "id": "pLw-M24oik2n",
        "outputId": "f8d72d47-ffe8-403c-d291-011b8a5cd295"
      },
      "source": [
        "for images, lables in train_loader:\r\n",
        "  print(images.shape, images.device)\r\n",
        "  images = to_device(images, device)\r\n",
        "  print(images.device)\r\n",
        "  break"
      ],
      "execution_count": 32,
      "outputs": [
        {
          "output_type": "stream",
          "text": [
            "torch.Size([128, 1, 28, 28]) cpu\n",
            "cuda:0\n"
          ],
          "name": "stdout"
        }
      ]
    },
    {
      "cell_type": "code",
      "metadata": {
        "id": "6K6R-6Vvi_W9"
      },
      "source": [
        "class DeviceDataLoader():\r\n",
        "  def __init__(self, dl, device):\r\n",
        "    self.dl = dl\r\n",
        "    self.device = device\r\n",
        "\r\n",
        "  def __iter__(self):\r\n",
        "    for b in self.dl:\r\n",
        "      yield (to_device(b, self.device))\r\n",
        "\r\n",
        "  def __len__(self):\r\n",
        "    return len(self.dl)\r\n"
      ],
      "execution_count": 33,
      "outputs": []
    },
    {
      "cell_type": "code",
      "metadata": {
        "id": "njMo-ogPlYi9"
      },
      "source": [
        "train_loader = DeviceDataLoader(train_loader, device)\r\n",
        "val_loader = DeviceDataLoader(val_loader, device)"
      ],
      "execution_count": 34,
      "outputs": []
    },
    {
      "cell_type": "code",
      "metadata": {
        "id": "Ikc1PFMWlood"
      },
      "source": [
        "def evaluate(model, val_loader):\r\n",
        "  outputs = [model.validation_step(batch) for batch in val_loader]\r\n",
        "  return model.validation_epoch_end(outputs)"
      ],
      "execution_count": 35,
      "outputs": []
    },
    {
      "cell_type": "code",
      "metadata": {
        "id": "_ST6Fwp_mReV"
      },
      "source": [
        "def fit(epochs, lr, model, train_loader, val_loader, opt_func=torch.optim.SGD):\r\n",
        "  history = []\r\n",
        "  optimizer = opt_func(model.parameters(), lr)\r\n",
        "  for epoch in range(epochs):\r\n",
        "    for batch in train_loader:\r\n",
        "      loss = model.training_step(batch)\r\n",
        "      loss.backward()\r\n",
        "      optimizer.step()\r\n",
        "      optimizer.zero_grad()\r\n",
        "    \r\n",
        "    result = evaluate(model, val_loader)\r\n",
        "    model.epoch_end(epoch, result)\r\n",
        "    history.append(result)\r\n",
        "  return history"
      ],
      "execution_count": 36,
      "outputs": []
    },
    {
      "cell_type": "code",
      "metadata": {
        "colab": {
          "base_uri": "https://localhost:8080/"
        },
        "id": "FJbf1K_nn3gy",
        "outputId": "ade0d8c4-bf44-4671-ec44-9ac4f6acd35e"
      },
      "source": [
        "model = MnistModel(input_size, hidden_size, output_size)\r\n",
        "to_device(model, device)"
      ],
      "execution_count": 37,
      "outputs": [
        {
          "output_type": "execute_result",
          "data": {
            "text/plain": [
              "MnistModel(\n",
              "  (linear1): Linear(in_features=784, out_features=32, bias=True)\n",
              "  (linear2): Linear(in_features=32, out_features=10, bias=True)\n",
              ")"
            ]
          },
          "metadata": {
            "tags": []
          },
          "execution_count": 37
        }
      ]
    },
    {
      "cell_type": "code",
      "metadata": {
        "colab": {
          "base_uri": "https://localhost:8080/"
        },
        "id": "lxiVwWJormeI",
        "outputId": "a6c9c5d8-0ce8-4f3e-e98a-99e1c36afbfc"
      },
      "source": [
        "history = [evaluate(model,val_loader)]\r\n",
        "history"
      ],
      "execution_count": 38,
      "outputs": [
        {
          "output_type": "execute_result",
          "data": {
            "text/plain": [
              "[{'val_acc': 0.1514042764902115, 'val_loss': 2.3062262535095215}]"
            ]
          },
          "metadata": {
            "tags": []
          },
          "execution_count": 38
        }
      ]
    },
    {
      "cell_type": "code",
      "metadata": {
        "colab": {
          "base_uri": "https://localhost:8080/"
        },
        "id": "NHZyTNQmPcip",
        "outputId": "07098937-0b0a-47cc-dbf5-5ed8497f277c"
      },
      "source": [
        "history += fit(10, 0.1, model, train_loader, val_loader) "
      ],
      "execution_count": 39,
      "outputs": [
        {
          "output_type": "stream",
          "text": [
            "Epoch: 0, val_loss: 0.3730, val_acc: 0.8941\n",
            "Epoch: 1, val_loss: 0.3042, val_acc: 0.9159\n",
            "Epoch: 2, val_loss: 0.2665, val_acc: 0.9241\n",
            "Epoch: 3, val_loss: 0.2421, val_acc: 0.9311\n",
            "Epoch: 4, val_loss: 0.2271, val_acc: 0.9376\n",
            "Epoch: 5, val_loss: 0.2123, val_acc: 0.9412\n",
            "Epoch: 6, val_loss: 0.2012, val_acc: 0.9429\n",
            "Epoch: 7, val_loss: 0.1902, val_acc: 0.9455\n",
            "Epoch: 8, val_loss: 0.1816, val_acc: 0.9489\n",
            "Epoch: 9, val_loss: 0.1750, val_acc: 0.9499\n"
          ],
          "name": "stdout"
        }
      ]
    },
    {
      "cell_type": "code",
      "metadata": {
        "colab": {
          "base_uri": "https://localhost:8080/"
        },
        "id": "ejlDQagaQT6m",
        "outputId": "4af54605-1dec-4904-9146-87a436b9d100"
      },
      "source": [
        "history += fit(30, 0.1, model, train_loader, val_loader)"
      ],
      "execution_count": 40,
      "outputs": [
        {
          "output_type": "stream",
          "text": [
            "Epoch: 0, val_loss: 0.1697, val_acc: 0.9507\n",
            "Epoch: 1, val_loss: 0.1648, val_acc: 0.9538\n",
            "Epoch: 2, val_loss: 0.1596, val_acc: 0.9537\n",
            "Epoch: 3, val_loss: 0.1556, val_acc: 0.9541\n",
            "Epoch: 4, val_loss: 0.1534, val_acc: 0.9559\n",
            "Epoch: 5, val_loss: 0.1575, val_acc: 0.9538\n",
            "Epoch: 6, val_loss: 0.1456, val_acc: 0.9574\n",
            "Epoch: 7, val_loss: 0.1459, val_acc: 0.9582\n",
            "Epoch: 8, val_loss: 0.1433, val_acc: 0.9592\n",
            "Epoch: 9, val_loss: 0.1420, val_acc: 0.9593\n",
            "Epoch: 10, val_loss: 0.1407, val_acc: 0.9607\n",
            "Epoch: 11, val_loss: 0.1392, val_acc: 0.9598\n",
            "Epoch: 12, val_loss: 0.1377, val_acc: 0.9604\n",
            "Epoch: 13, val_loss: 0.1327, val_acc: 0.9609\n",
            "Epoch: 14, val_loss: 0.1312, val_acc: 0.9632\n",
            "Epoch: 15, val_loss: 0.1308, val_acc: 0.9626\n",
            "Epoch: 16, val_loss: 0.1273, val_acc: 0.9642\n",
            "Epoch: 17, val_loss: 0.1275, val_acc: 0.9634\n",
            "Epoch: 18, val_loss: 0.1254, val_acc: 0.9645\n",
            "Epoch: 19, val_loss: 0.1261, val_acc: 0.9625\n",
            "Epoch: 20, val_loss: 0.1287, val_acc: 0.9648\n",
            "Epoch: 21, val_loss: 0.1284, val_acc: 0.9638\n",
            "Epoch: 22, val_loss: 0.1249, val_acc: 0.9632\n",
            "Epoch: 23, val_loss: 0.1278, val_acc: 0.9645\n",
            "Epoch: 24, val_loss: 0.1265, val_acc: 0.9631\n",
            "Epoch: 25, val_loss: 0.1284, val_acc: 0.9632\n",
            "Epoch: 26, val_loss: 0.1249, val_acc: 0.9649\n",
            "Epoch: 27, val_loss: 0.1227, val_acc: 0.9651\n",
            "Epoch: 28, val_loss: 0.1192, val_acc: 0.9660\n",
            "Epoch: 29, val_loss: 0.1235, val_acc: 0.9642\n"
          ],
          "name": "stdout"
        }
      ]
    },
    {
      "cell_type": "markdown",
      "metadata": {
        "id": "cTPlSvbDSVpL"
      },
      "source": [
        "we got 96% accuracy, lets plot graphs\r\n"
      ]
    },
    {
      "cell_type": "code",
      "metadata": {
        "colab": {
          "base_uri": "https://localhost:8080/"
        },
        "id": "N-ks5LDISYPS",
        "outputId": "c19eb364-e364-4157-fb39-a2d652ad6805"
      },
      "source": [
        "history"
      ],
      "execution_count": 52,
      "outputs": [
        {
          "output_type": "execute_result",
          "data": {
            "text/plain": [
              "[{'val_acc': 0.1514042764902115, 'val_loss': 2.3062262535095215},\n",
              " {'val_acc': 0.8940862417221069, 'val_loss': 0.37295588850975037},\n",
              " {'val_acc': 0.9159414768218994, 'val_loss': 0.30417102575302124},\n",
              " {'val_acc': 0.9241495132446289, 'val_loss': 0.2665282189846039},\n",
              " {'val_acc': 0.9310719966888428, 'val_loss': 0.24213804304599762},\n",
              " {'val_acc': 0.9375988841056824, 'val_loss': 0.22709931433200836},\n",
              " {'val_acc': 0.9411590099334717, 'val_loss': 0.21232134103775024},\n",
              " {'val_acc': 0.9429391026496887, 'val_loss': 0.20116868615150452},\n",
              " {'val_acc': 0.9455102682113647, 'val_loss': 0.1902412325143814},\n",
              " {'val_acc': 0.9488726258277893, 'val_loss': 0.18155339360237122},\n",
              " {'val_acc': 0.9498615264892578, 'val_loss': 0.17504248023033142},\n",
              " {'val_acc': 0.9506527185440063, 'val_loss': 0.1697186529636383},\n",
              " {'val_acc': 0.9538172483444214, 'val_loss': 0.16481006145477295},\n",
              " {'val_acc': 0.953718364238739, 'val_loss': 0.15955740213394165},\n",
              " {'val_acc': 0.9541139006614685, 'val_loss': 0.1555585116147995},\n",
              " {'val_acc': 0.9558939933776855, 'val_loss': 0.1534201204776764},\n",
              " {'val_acc': 0.9538172483444214, 'val_loss': 0.1575174629688263},\n",
              " {'val_acc': 0.9573773741722107, 'val_loss': 0.14562489092350006},\n",
              " {'val_acc': 0.9581685066223145, 'val_loss': 0.14590846002101898},\n",
              " {'val_acc': 0.959157407283783, 'val_loss': 0.14332304894924164},\n",
              " {'val_acc': 0.9592563509941101, 'val_loss': 0.14196543395519257},\n",
              " {'val_acc': 0.9607397317886353, 'val_loss': 0.14070500433444977},\n",
              " {'val_acc': 0.9598496556282043, 'val_loss': 0.1391766220331192},\n",
              " {'val_acc': 0.9604430198669434, 'val_loss': 0.13771241903305054},\n",
              " {'val_acc': 0.9609375, 'val_loss': 0.13273726403713226},\n",
              " {'val_acc': 0.9632120132446289, 'val_loss': 0.13122722506523132},\n",
              " {'val_acc': 0.9626186490058899, 'val_loss': 0.13083745539188385},\n",
              " {'val_acc': 0.9642009735107422, 'val_loss': 0.1272870898246765},\n",
              " {'val_acc': 0.9634097814559937, 'val_loss': 0.1275094896554947},\n",
              " {'val_acc': 0.9644976258277893, 'val_loss': 0.12540769577026367},\n",
              " {'val_acc': 0.9625197649002075, 'val_loss': 0.12611621618270874},\n",
              " {'val_acc': 0.9647942781448364, 'val_loss': 0.12871664762496948},\n",
              " {'val_acc': 0.9638053774833679, 'val_loss': 0.12840008735656738},\n",
              " {'val_acc': 0.9632120132446289, 'val_loss': 0.12487177550792694},\n",
              " {'val_acc': 0.9644976258277893, 'val_loss': 0.12779298424720764},\n",
              " {'val_acc': 0.9631131291389465, 'val_loss': 0.1265241503715515},\n",
              " {'val_acc': 0.9632120132446289, 'val_loss': 0.12843701243400574},\n",
              " {'val_acc': 0.9648932218551636, 'val_loss': 0.1248513013124466},\n",
              " {'val_acc': 0.9650909900665283, 'val_loss': 0.12274609506130219},\n",
              " {'val_acc': 0.9659810066223145, 'val_loss': 0.11916449666023254},\n",
              " {'val_acc': 0.9642009735107422, 'val_loss': 0.12353626638650894}]"
            ]
          },
          "metadata": {
            "tags": []
          },
          "execution_count": 52
        }
      ]
    },
    {
      "cell_type": "code",
      "metadata": {
        "colab": {
          "base_uri": "https://localhost:8080/",
          "height": 312
        },
        "id": "F4l7euNbSxiS",
        "outputId": "200d70c0-8b8b-4189-9c5a-5162c39efeda"
      },
      "source": [
        "losses = [x['val_loss'] for x in history]\r\n",
        "plt.plot(losses,'-x')\r\n",
        "plt.xlabel('epochs')\r\n",
        "plt.ylabel('loss')\r\n",
        "plt.title('Loss Vs Epochs')"
      ],
      "execution_count": 53,
      "outputs": [
        {
          "output_type": "execute_result",
          "data": {
            "text/plain": [
              "Text(0.5, 1.0, 'Loss Vs Epochs')"
            ]
          },
          "metadata": {
            "tags": []
          },
          "execution_count": 53
        },
        {
          "output_type": "display_data",
          "data": {
            "image/png": "[encoded data removed]",
            "text/plain": [
              "<Figure size 432x288 with 1 Axes>"
            ]
          },
          "metadata": {
            "tags": [],
            "needs_background": "light"
          }
        }
      ]
    },
    {
      "cell_type": "code",
      "metadata": {
        "colab": {
          "base_uri": "https://localhost:8080/",
          "height": 312
        },
        "id": "3IFhlS4uTJC2",
        "outputId": "094b82a0-eebc-42be-8241-66f6b66d8086"
      },
      "source": [
        "accuracy = [x['val_acc'] for x in history]\r\n",
        "plt.plot(accuracy,'-x')\r\n",
        "plt.xlabel('epochs')\r\n",
        "plt.ylabel('accuracy')\r\n",
        "plt.title('Accuracy Vs Epochs')"
      ],
      "execution_count": 54,
      "outputs": [
        {
          "output_type": "execute_result",
          "data": {
            "text/plain": [
              "Text(0.5, 1.0, 'Accuracy Vs Epochs')"
            ]
          },
          "metadata": {
            "tags": []
          },
          "execution_count": 54
        },
        {
          "output_type": "display_data",
          "data": {
            "image/png": "[encoded data removed]",
            "text/plain": [
              "<Figure size 432x288 with 1 Axes>"
            ]
          },
          "metadata": {
            "tags": [],
            "needs_background": "light"
          }
        }
      ]
    },
    {
      "cell_type": "markdown",
      "metadata": {
        "id": "q_qL4djDUAUL"
      },
      "source": [
        "TEst with Indivudual images"
      ]
    },
    {
      "cell_type": "code",
      "metadata": {
        "id": "nyp6ZXX6TrZb"
      },
      "source": [
        "test_data = MNIST(root='data/', train=False, transform=ToTensor(),download=True)"
      ],
      "execution_count": 56,
      "outputs": []
    },
    {
      "cell_type": "code",
      "metadata": {
        "colab": {
          "base_uri": "https://localhost:8080/"
        },
        "id": "JECCOQW4UL7E",
        "outputId": "bbd4d2d7-ec39-440f-f8e1-8243362584c7"
      },
      "source": [
        "len(test_data)"
      ],
      "execution_count": 57,
      "outputs": [
        {
          "output_type": "execute_result",
          "data": {
            "text/plain": [
              "10000"
            ]
          },
          "metadata": {
            "tags": []
          },
          "execution_count": 57
        }
      ]
    },
    {
      "cell_type": "code",
      "metadata": {
        "id": "FCMN0LhjUN_a"
      },
      "source": [
        "def predict_image(img,model):\r\n",
        "  xb = to_device(img.unsqueeze(0),device)\r\n",
        "  yb = model(xb)\r\n",
        "  _, preds = torch.max(yb, dim=1)\r\n",
        "  return preds[0].item()"
      ],
      "execution_count": 58,
      "outputs": []
    },
    {
      "cell_type": "code",
      "metadata": {
        "colab": {
          "base_uri": "https://localhost:8080/",
          "height": 282
        },
        "id": "107HE9lWUffK",
        "outputId": "b64a4734-1991-479f-a719-977dca25f53a"
      },
      "source": [
        "img, label = test_data[0]\r\n",
        "plt.imshow(img[0])\r\n",
        "pred_label = predict_image(img, model)\r\n",
        "print('predicted label :',pred_label)"
      ],
      "execution_count": 59,
      "outputs": [
        {
          "output_type": "stream",
          "text": [
            "predicted label : 7\n"
          ],
          "name": "stdout"
        },
        {
          "output_type": "display_data",
          "data": {
            "image/png": "[encoded data removed]",
            "text/plain": [
              "<Figure size 432x288 with 1 Axes>"
            ]
          },
          "metadata": {
            "tags": [],
            "needs_background": "light"
          }
        }
      ]
    },
    {
      "cell_type": "code",
      "metadata": {
        "colab": {
          "base_uri": "https://localhost:8080/",
          "height": 282
        },
        "id": "HWU9AjW0VVmd",
        "outputId": "1707763c-17e1-4e2f-c172-c04034a963e3"
      },
      "source": [
        "img, label = test_data[1839]\r\n",
        "plt.imshow(img[0])\r\n",
        "pred_label = predict_image(img, model)\r\n",
        "print('predicted label :',pred_label)"
      ],
      "execution_count": 60,
      "outputs": [
        {
          "output_type": "stream",
          "text": [
            "predicted label : 2\n"
          ],
          "name": "stdout"
        },
        {
          "output_type": "display_data",
          "data": {
            "image/png": "[encoded data removed]",
            "text/plain": [
              "<Figure size 432x288 with 1 Axes>"
            ]
          },
          "metadata": {
            "tags": [],
            "needs_background": "light"
          }
        }
      ]
    },
    {
      "cell_type": "code",
      "metadata": {
        "colab": {
          "base_uri": "https://localhost:8080/",
          "height": 282
        },
        "id": "KENgEeGmVjt6",
        "outputId": "2717c6fe-7d48-4e54-c3f8-ac1772726b38"
      },
      "source": [
        "img, label = test_data[193]\r\n",
        "plt.imshow(img[0])\r\n",
        "pred_label = predict_image(img, model)\r\n",
        "print('predicted label :',pred_label)"
      ],
      "execution_count": 61,
      "outputs": [
        {
          "output_type": "stream",
          "text": [
            "predicted label : 9\n"
          ],
          "name": "stdout"
        },
        {
          "output_type": "display_data",
          "data": {
            "image/png": "[encoded data removed]",
            "text/plain": [
              "<Figure size 432x288 with 1 Axes>"
            ]
          },
          "metadata": {
            "tags": [],
            "needs_background": "light"
          }
        }
      ]
    },
    {
      "cell_type": "code",
      "metadata": {
        "id": "LodjIBcTWAt0"
      },
      "source": [
        "test_loader = DeviceDataLoader(DataLoader(test_data, batch_size=256), device)"
      ],
      "execution_count": 62,
      "outputs": []
    },
    {
      "cell_type": "code",
      "metadata": {
        "colab": {
          "base_uri": "https://localhost:8080/",
          "height": 488
        },
        "id": "LjjfX75maM60",
        "outputId": "eda7dba4-8de5-4034-bf2a-3d7225d1d4db"
      },
      "source": [
        "# result = evaluate()\r\n",
        "result = evaluate(model, test_loader)"
      ],
      "execution_count": 63,
      "outputs": [
        {
          "output_type": "error",
          "ename": "TypeError",
          "evalue": "ignored",
          "traceback": [
            "\u001b[0;31m---------------------------------------------------------------------------\u001b[0m",
            "\u001b[0;31mTypeError\u001b[0m                                 Traceback (most recent call last)",
            "\u001b[0;32m<ipython-input-63-2cafff81eb9f>\u001b[0m in \u001b[0;36m<module>\u001b[0;34m()\u001b[0m\n\u001b[1;32m      1\u001b[0m \u001b[0;31m# result = evaluate()\u001b[0m\u001b[0;34m\u001b[0m\u001b[0;34m\u001b[0m\u001b[0;34m\u001b[0m\u001b[0m\n\u001b[0;32m----> 2\u001b[0;31m \u001b[0mresult\u001b[0m \u001b[0;34m=\u001b[0m \u001b[0mevaluate\u001b[0m\u001b[0;34m(\u001b[0m\u001b[0mmodel\u001b[0m\u001b[0;34m,\u001b[0m \u001b[0mtest_loader\u001b[0m\u001b[0;34m)\u001b[0m\u001b[0;34m\u001b[0m\u001b[0;34m\u001b[0m\u001b[0m\n\u001b[0m",
            "\u001b[0;32m<ipython-input-35-739e00daa132>\u001b[0m in \u001b[0;36mevaluate\u001b[0;34m(model, val_loader)\u001b[0m\n\u001b[1;32m      1\u001b[0m \u001b[0;32mdef\u001b[0m \u001b[0mevaluate\u001b[0m\u001b[0;34m(\u001b[0m\u001b[0mmodel\u001b[0m\u001b[0;34m,\u001b[0m \u001b[0mval_loader\u001b[0m\u001b[0;34m)\u001b[0m\u001b[0;34m:\u001b[0m\u001b[0;34m\u001b[0m\u001b[0;34m\u001b[0m\u001b[0m\n\u001b[0;32m----> 2\u001b[0;31m   \u001b[0moutputs\u001b[0m \u001b[0;34m=\u001b[0m \u001b[0;34m[\u001b[0m\u001b[0mmodel\u001b[0m\u001b[0;34m.\u001b[0m\u001b[0mvalidation_step\u001b[0m\u001b[0;34m(\u001b[0m\u001b[0mbatch\u001b[0m\u001b[0;34m)\u001b[0m \u001b[0;32mfor\u001b[0m \u001b[0mbatch\u001b[0m \u001b[0;32min\u001b[0m \u001b[0mval_loader\u001b[0m\u001b[0;34m]\u001b[0m\u001b[0;34m\u001b[0m\u001b[0;34m\u001b[0m\u001b[0m\n\u001b[0m\u001b[1;32m      3\u001b[0m   \u001b[0;32mreturn\u001b[0m \u001b[0mmodel\u001b[0m\u001b[0;34m.\u001b[0m\u001b[0mvalidation_epoch_end\u001b[0m\u001b[0;34m(\u001b[0m\u001b[0moutputs\u001b[0m\u001b[0;34m)\u001b[0m\u001b[0;34m\u001b[0m\u001b[0;34m\u001b[0m\u001b[0m\n",
            "\u001b[0;32m<ipython-input-35-739e00daa132>\u001b[0m in \u001b[0;36m<listcomp>\u001b[0;34m(.0)\u001b[0m\n\u001b[1;32m      1\u001b[0m \u001b[0;32mdef\u001b[0m \u001b[0mevaluate\u001b[0m\u001b[0;34m(\u001b[0m\u001b[0mmodel\u001b[0m\u001b[0;34m,\u001b[0m \u001b[0mval_loader\u001b[0m\u001b[0;34m)\u001b[0m\u001b[0;34m:\u001b[0m\u001b[0;34m\u001b[0m\u001b[0;34m\u001b[0m\u001b[0m\n\u001b[0;32m----> 2\u001b[0;31m   \u001b[0moutputs\u001b[0m \u001b[0;34m=\u001b[0m \u001b[0;34m[\u001b[0m\u001b[0mmodel\u001b[0m\u001b[0;34m.\u001b[0m\u001b[0mvalidation_step\u001b[0m\u001b[0;34m(\u001b[0m\u001b[0mbatch\u001b[0m\u001b[0;34m)\u001b[0m \u001b[0;32mfor\u001b[0m \u001b[0mbatch\u001b[0m \u001b[0;32min\u001b[0m \u001b[0mval_loader\u001b[0m\u001b[0;34m]\u001b[0m\u001b[0;34m\u001b[0m\u001b[0;34m\u001b[0m\u001b[0m\n\u001b[0m\u001b[1;32m      3\u001b[0m   \u001b[0;32mreturn\u001b[0m \u001b[0mmodel\u001b[0m\u001b[0;34m.\u001b[0m\u001b[0mvalidation_epoch_end\u001b[0m\u001b[0;34m(\u001b[0m\u001b[0moutputs\u001b[0m\u001b[0;34m)\u001b[0m\u001b[0;34m\u001b[0m\u001b[0;34m\u001b[0m\u001b[0m\n",
            "\u001b[0;32m<ipython-input-22-7ec8397d63f2>\u001b[0m in \u001b[0;36mvalidation_step\u001b[0;34m(self, xb)\u001b[0m\n\u001b[1;32m     24\u001b[0m     \u001b[0mout\u001b[0m \u001b[0;34m=\u001b[0m \u001b[0mself\u001b[0m\u001b[0;34m(\u001b[0m\u001b[0mimages\u001b[0m\u001b[0;34m)\u001b[0m\u001b[0;34m\u001b[0m\u001b[0;34m\u001b[0m\u001b[0m\n\u001b[1;32m     25\u001b[0m     \u001b[0mloss\u001b[0m \u001b[0;34m=\u001b[0m \u001b[0mF\u001b[0m\u001b[0;34m.\u001b[0m\u001b[0mcross_entropy\u001b[0m\u001b[0;34m(\u001b[0m\u001b[0mout\u001b[0m\u001b[0;34m,\u001b[0m \u001b[0mlabels\u001b[0m\u001b[0;34m)\u001b[0m\u001b[0;34m\u001b[0m\u001b[0;34m\u001b[0m\u001b[0m\n\u001b[0;32m---> 26\u001b[0;31m     \u001b[0macc\u001b[0m \u001b[0;34m=\u001b[0m \u001b[0maccuracy\u001b[0m\u001b[0;34m(\u001b[0m\u001b[0mout\u001b[0m\u001b[0;34m,\u001b[0m \u001b[0mlabels\u001b[0m\u001b[0;34m)\u001b[0m\u001b[0;34m\u001b[0m\u001b[0;34m\u001b[0m\u001b[0m\n\u001b[0m\u001b[1;32m     27\u001b[0m     \u001b[0;32mreturn\u001b[0m \u001b[0;34m{\u001b[0m\u001b[0;34m'val_loss'\u001b[0m\u001b[0;34m:\u001b[0m \u001b[0mloss\u001b[0m\u001b[0;34m,\u001b[0m \u001b[0;34m'val_accuracy'\u001b[0m\u001b[0;34m:\u001b[0m \u001b[0macc\u001b[0m\u001b[0;34m}\u001b[0m\u001b[0;34m\u001b[0m\u001b[0;34m\u001b[0m\u001b[0m\n\u001b[1;32m     28\u001b[0m \u001b[0;34m\u001b[0m\u001b[0m\n",
            "\u001b[0;31mTypeError\u001b[0m: 'list' object is not callable"
          ]
        }
      ]
    },
    {
      "cell_type": "code",
      "metadata": {
        "colab": {
          "base_uri": "https://localhost:8080/",
          "height": 86
        },
        "id": "FzKNeFtadtsM",
        "outputId": "5eb75cea-b476-42b1-92b0-afb6d686f64b"
      },
      "source": [
        "jovian.commit(project='04-feedforward-nn-self', environment=None)"
      ],
      "execution_count": 66,
      "outputs": [
        {
          "output_type": "stream",
          "text": [
            "[jovian] Detected Colab notebook...\u001b[0m\n",
            "[jovian] Uploading colab notebook to Jovian...\u001b[0m\n",
            "[jovian] Committed successfully! https://jovian.ai/subbarao-athmuri/04-feedforward-nn-self\u001b[0m\n"
          ],
          "name": "stdout"
        },
        {
          "output_type": "execute_result",
          "data": {
            "application/vnd.google.colaboratory.intrinsic+json": {
              "type": "string"
            },
            "text/plain": [
              "'https://jovian.ai/subbarao-athmuri/04-feedforward-nn-self'"
            ]
          },
          "metadata": {
            "tags": []
          },
          "execution_count": 66
        }
      ]
    },
    {
      "cell_type": "markdown",
      "metadata": {
        "id": "YLjX3GpKsA1N"
      },
      "source": [
        ""
      ]
    }
  ]
}