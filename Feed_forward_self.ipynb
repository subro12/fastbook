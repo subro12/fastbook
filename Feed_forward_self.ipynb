{
  "nbformat": 4,
  "nbformat_minor": 0,
  "metadata": {
    "colab": {
      "name": "Feed-forward-self",
      "provenance": [],
      "collapsed_sections": [],
      "authorship_tag": "ABX9TyP9W/l90bpYjGrJsTp24DUE",
      "include_colab_link": true
    },
    "kernelspec": {
      "name": "python3",
      "display_name": "Python 3"
    },
    "accelerator": "GPU",
    "widgets": {
      "application/vnd.jupyter.widget-state+json": {
        "375ca6338233412aae61880bb25c3175": {
          "model_module": "@jupyter-widgets/controls",
          "model_name": "HBoxModel",
          "state": {
            "_view_name": "HBoxView",
            "_dom_classes": [],
            "_model_name": "HBoxModel",
            "_view_module": "@jupyter-widgets/controls",
            "_model_module_version": "1.5.0",
            "_view_count": null,
            "_view_module_version": "1.5.0",
            "box_style": "",
            "layout": "IPY_MODEL_e93834025a7144ba8f4b8db877e62907",
            "_model_module": "@jupyter-widgets/controls",
            "children": [
              "IPY_MODEL_d03b3dbfd2644c748514b3bb64aac280",
              "IPY_MODEL_de92af3227024016a8b2344db2897038"
            ]
          }
        },
        "e93834025a7144ba8f4b8db877e62907": {
          "model_module": "@jupyter-widgets/base",
          "model_name": "LayoutModel",
          "state": {
            "_view_name": "LayoutView",
            "grid_template_rows": null,
            "right": null,
            "justify_content": null,
            "_view_module": "@jupyter-widgets/base",
            "overflow": null,
            "_model_module_version": "1.2.0",
            "_view_count": null,
            "flex_flow": null,
            "width": null,
            "min_width": null,
            "border": null,
            "align_items": null,
            "bottom": null,
            "_model_module": "@jupyter-widgets/base",
            "top": null,
            "grid_column": null,
            "overflow_y": null,
            "overflow_x": null,
            "grid_auto_flow": null,
            "grid_area": null,
            "grid_template_columns": null,
            "flex": null,
            "_model_name": "LayoutModel",
            "justify_items": null,
            "grid_row": null,
            "max_height": null,
            "align_content": null,
            "visibility": null,
            "align_self": null,
            "height": null,
            "min_height": null,
            "padding": null,
            "grid_auto_rows": null,
            "grid_gap": null,
            "max_width": null,
            "order": null,
            "_view_module_version": "1.2.0",
            "grid_template_areas": null,
            "object_position": null,
            "object_fit": null,
            "grid_auto_columns": null,
            "margin": null,
            "display": null,
            "left": null
          }
        },
        "d03b3dbfd2644c748514b3bb64aac280": {
          "model_module": "@jupyter-widgets/controls",
          "model_name": "FloatProgressModel",
          "state": {
            "_view_name": "ProgressView",
            "style": "IPY_MODEL_76c36a26fdee4ca0869d618edc05bbf5",
            "_dom_classes": [],
            "description": "",
            "_model_name": "FloatProgressModel",
            "bar_style": "success",
            "max": 1,
            "_view_module": "@jupyter-widgets/controls",
            "_model_module_version": "1.5.0",
            "value": 1,
            "_view_count": null,
            "_view_module_version": "1.5.0",
            "orientation": "horizontal",
            "min": 0,
            "description_tooltip": null,
            "_model_module": "@jupyter-widgets/controls",
            "layout": "IPY_MODEL_741341e8676c4eacacdd16509496929c"
          }
        },
        "de92af3227024016a8b2344db2897038": {
          "model_module": "@jupyter-widgets/controls",
          "model_name": "HTMLModel",
          "state": {
            "_view_name": "HTMLView",
            "style": "IPY_MODEL_5ff20ecac560459dbeaa9d65eca82097",
            "_dom_classes": [],
            "description": "",
            "_model_name": "HTMLModel",
            "placeholder": "​",
            "_view_module": "@jupyter-widgets/controls",
            "_model_module_version": "1.5.0",
            "value": " 9920512/? [00:07&lt;00:00, 1283127.69it/s]",
            "_view_count": null,
            "_view_module_version": "1.5.0",
            "description_tooltip": null,
            "_model_module": "@jupyter-widgets/controls",
            "layout": "IPY_MODEL_0aaa782797b543e28231261d8e107a5b"
          }
        },
        "76c36a26fdee4ca0869d618edc05bbf5": {
          "model_module": "@jupyter-widgets/controls",
          "model_name": "ProgressStyleModel",
          "state": {
            "_view_name": "StyleView",
            "_model_name": "ProgressStyleModel",
            "description_width": "initial",
            "_view_module": "@jupyter-widgets/base",
            "_model_module_version": "1.5.0",
            "_view_count": null,
            "_view_module_version": "1.2.0",
            "bar_color": null,
            "_model_module": "@jupyter-widgets/controls"
          }
        },
        "741341e8676c4eacacdd16509496929c": {
          "model_module": "@jupyter-widgets/base",
          "model_name": "LayoutModel",
          "state": {
            "_view_name": "LayoutView",
            "grid_template_rows": null,
            "right": null,
            "justify_content": null,
            "_view_module": "@jupyter-widgets/base",
            "overflow": null,
            "_model_module_version": "1.2.0",
            "_view_count": null,
            "flex_flow": null,
            "width": null,
            "min_width": null,
            "border": null,
            "align_items": null,
            "bottom": null,
            "_model_module": "@jupyter-widgets/base",
            "top": null,
            "grid_column": null,
            "overflow_y": null,
            "overflow_x": null,
            "grid_auto_flow": null,
            "grid_area": null,
            "grid_template_columns": null,
            "flex": null,
            "_model_name": "LayoutModel",
            "justify_items": null,
            "grid_row": null,
            "max_height": null,
            "align_content": null,
            "visibility": null,
            "align_self": null,
            "height": null,
            "min_height": null,
            "padding": null,
            "grid_auto_rows": null,
            "grid_gap": null,
            "max_width": null,
            "order": null,
            "_view_module_version": "1.2.0",
            "grid_template_areas": null,
            "object_position": null,
            "object_fit": null,
            "grid_auto_columns": null,
            "margin": null,
            "display": null,
            "left": null
          }
        },
        "5ff20ecac560459dbeaa9d65eca82097": {
          "model_module": "@jupyter-widgets/controls",
          "model_name": "DescriptionStyleModel",
          "state": {
            "_view_name": "StyleView",
            "_model_name": "DescriptionStyleModel",
            "description_width": "",
            "_view_module": "@jupyter-widgets/base",
            "_model_module_version": "1.5.0",
            "_view_count": null,
            "_view_module_version": "1.2.0",
            "_model_module": "@jupyter-widgets/controls"
          }
        },
        "0aaa782797b543e28231261d8e107a5b": {
          "model_module": "@jupyter-widgets/base",
          "model_name": "LayoutModel",
          "state": {
            "_view_name": "LayoutView",
            "grid_template_rows": null,
            "right": null,
            "justify_content": null,
            "_view_module": "@jupyter-widgets/base",
            "overflow": null,
            "_model_module_version": "1.2.0",
            "_view_count": null,
            "flex_flow": null,
            "width": null,
            "min_width": null,
            "border": null,
            "align_items": null,
            "bottom": null,
            "_model_module": "@jupyter-widgets/base",
            "top": null,
            "grid_column": null,
            "overflow_y": null,
            "overflow_x": null,
            "grid_auto_flow": null,
            "grid_area": null,
            "grid_template_columns": null,
            "flex": null,
            "_model_name": "LayoutModel",
            "justify_items": null,
            "grid_row": null,
            "max_height": null,
            "align_content": null,
            "visibility": null,
            "align_self": null,
            "height": null,
            "min_height": null,
            "padding": null,
            "grid_auto_rows": null,
            "grid_gap": null,
            "max_width": null,
            "order": null,
            "_view_module_version": "1.2.0",
            "grid_template_areas": null,
            "object_position": null,
            "object_fit": null,
            "grid_auto_columns": null,
            "margin": null,
            "display": null,
            "left": null
          }
        },
        "ca7ed42182c64ff7be50cef1b3284156": {
          "model_module": "@jupyter-widgets/controls",
          "model_name": "HBoxModel",
          "state": {
            "_view_name": "HBoxView",
            "_dom_classes": [],
            "_model_name": "HBoxModel",
            "_view_module": "@jupyter-widgets/controls",
            "_model_module_version": "1.5.0",
            "_view_count": null,
            "_view_module_version": "1.5.0",
            "box_style": "",
            "layout": "IPY_MODEL_33f3533113eb403d98ad6ff10ec3e2f6",
            "_model_module": "@jupyter-widgets/controls",
            "children": [
              "IPY_MODEL_492f6ddf169a400184682731b4c387b6",
              "IPY_MODEL_c93ea4098e23481caba36ef0fb7f9e1f"
            ]
          }
        },
        "33f3533113eb403d98ad6ff10ec3e2f6": {
          "model_module": "@jupyter-widgets/base",
          "model_name": "LayoutModel",
          "state": {
            "_view_name": "LayoutView",
            "grid_template_rows": null,
            "right": null,
            "justify_content": null,
            "_view_module": "@jupyter-widgets/base",
            "overflow": null,
            "_model_module_version": "1.2.0",
            "_view_count": null,
            "flex_flow": null,
            "width": null,
            "min_width": null,
            "border": null,
            "align_items": null,
            "bottom": null,
            "_model_module": "@jupyter-widgets/base",
            "top": null,
            "grid_column": null,
            "overflow_y": null,
            "overflow_x": null,
            "grid_auto_flow": null,
            "grid_area": null,
            "grid_template_columns": null,
            "flex": null,
            "_model_name": "LayoutModel",
            "justify_items": null,
            "grid_row": null,
            "max_height": null,
            "align_content": null,
            "visibility": null,
            "align_self": null,
            "height": null,
            "min_height": null,
            "padding": null,
            "grid_auto_rows": null,
            "grid_gap": null,
            "max_width": null,
            "order": null,
            "_view_module_version": "1.2.0",
            "grid_template_areas": null,
            "object_position": null,
            "object_fit": null,
            "grid_auto_columns": null,
            "margin": null,
            "display": null,
            "left": null
          }
        },
        "492f6ddf169a400184682731b4c387b6": {
          "model_module": "@jupyter-widgets/controls",
          "model_name": "FloatProgressModel",
          "state": {
            "_view_name": "ProgressView",
            "style": "IPY_MODEL_05141c0ce4d44ecfba077f1fce8546a7",
            "_dom_classes": [],
            "description": "",
            "_model_name": "FloatProgressModel",
            "bar_style": "success",
            "max": 1,
            "_view_module": "@jupyter-widgets/controls",
            "_model_module_version": "1.5.0",
            "value": 1,
            "_view_count": null,
            "_view_module_version": "1.5.0",
            "orientation": "horizontal",
            "min": 0,
            "description_tooltip": null,
            "_model_module": "@jupyter-widgets/controls",
            "layout": "IPY_MODEL_9267821c5c4446e695b55fe576a51ab7"
          }
        },
        "c93ea4098e23481caba36ef0fb7f9e1f": {
          "model_module": "@jupyter-widgets/controls",
          "model_name": "HTMLModel",
          "state": {
            "_view_name": "HTMLView",
            "style": "IPY_MODEL_b24c0cf957e2411d91afe3baac047846",
            "_dom_classes": [],
            "description": "",
            "_model_name": "HTMLModel",
            "placeholder": "​",
            "_view_module": "@jupyter-widgets/controls",
            "_model_module_version": "1.5.0",
            "value": " 32768/? [00:03&lt;00:00, 8435.60it/s]",
            "_view_count": null,
            "_view_module_version": "1.5.0",
            "description_tooltip": null,
            "_model_module": "@jupyter-widgets/controls",
            "layout": "IPY_MODEL_745b724311ef4186a40af3e509f87cae"
          }
        },
        "05141c0ce4d44ecfba077f1fce8546a7": {
          "model_module": "@jupyter-widgets/controls",
          "model_name": "ProgressStyleModel",
          "state": {
            "_view_name": "StyleView",
            "_model_name": "ProgressStyleModel",
            "description_width": "initial",
            "_view_module": "@jupyter-widgets/base",
            "_model_module_version": "1.5.0",
            "_view_count": null,
            "_view_module_version": "1.2.0",
            "bar_color": null,
            "_model_module": "@jupyter-widgets/controls"
          }
        },
        "9267821c5c4446e695b55fe576a51ab7": {
          "model_module": "@jupyter-widgets/base",
          "model_name": "LayoutModel",
          "state": {
            "_view_name": "LayoutView",
            "grid_template_rows": null,
            "right": null,
            "justify_content": null,
            "_view_module": "@jupyter-widgets/base",
            "overflow": null,
            "_model_module_version": "1.2.0",
            "_view_count": null,
            "flex_flow": null,
            "width": null,
            "min_width": null,
            "border": null,
            "align_items": null,
            "bottom": null,
            "_model_module": "@jupyter-widgets/base",
            "top": null,
            "grid_column": null,
            "overflow_y": null,
            "overflow_x": null,
            "grid_auto_flow": null,
            "grid_area": null,
            "grid_template_columns": null,
            "flex": null,
            "_model_name": "LayoutModel",
            "justify_items": null,
            "grid_row": null,
            "max_height": null,
            "align_content": null,
            "visibility": null,
            "align_self": null,
            "height": null,
            "min_height": null,
            "padding": null,
            "grid_auto_rows": null,
            "grid_gap": null,
            "max_width": null,
            "order": null,
            "_view_module_version": "1.2.0",
            "grid_template_areas": null,
            "object_position": null,
            "object_fit": null,
            "grid_auto_columns": null,
            "margin": null,
            "display": null,
            "left": null
          }
        },
        "b24c0cf957e2411d91afe3baac047846": {
          "model_module": "@jupyter-widgets/controls",
          "model_name": "DescriptionStyleModel",
          "state": {
            "_view_name": "StyleView",
            "_model_name": "DescriptionStyleModel",
            "description_width": "",
            "_view_module": "@jupyter-widgets/base",
            "_model_module_version": "1.5.0",
            "_view_count": null,
            "_view_module_version": "1.2.0",
            "_model_module": "@jupyter-widgets/controls"
          }
        },
        "745b724311ef4186a40af3e509f87cae": {
          "model_module": "@jupyter-widgets/base",
          "model_name": "LayoutModel",
          "state": {
            "_view_name": "LayoutView",
            "grid_template_rows": null,
            "right": null,
            "justify_content": null,
            "_view_module": "@jupyter-widgets/base",
            "overflow": null,
            "_model_module_version": "1.2.0",
            "_view_count": null,
            "flex_flow": null,
            "width": null,
            "min_width": null,
            "border": null,
            "align_items": null,
            "bottom": null,
            "_model_module": "@jupyter-widgets/base",
            "top": null,
            "grid_column": null,
            "overflow_y": null,
            "overflow_x": null,
            "grid_auto_flow": null,
            "grid_area": null,
            "grid_template_columns": null,
            "flex": null,
            "_model_name": "LayoutModel",
            "justify_items": null,
            "grid_row": null,
            "max_height": null,
            "align_content": null,
            "visibility": null,
            "align_self": null,
            "height": null,
            "min_height": null,
            "padding": null,
            "grid_auto_rows": null,
            "grid_gap": null,
            "max_width": null,
            "order": null,
            "_view_module_version": "1.2.0",
            "grid_template_areas": null,
            "object_position": null,
            "object_fit": null,
            "grid_auto_columns": null,
            "margin": null,
            "display": null,
            "left": null
          }
        },
        "c9d29e1021984504a639246dd22e155d": {
          "model_module": "@jupyter-widgets/controls",
          "model_name": "HBoxModel",
          "state": {
            "_view_name": "HBoxView",
            "_dom_classes": [],
            "_model_name": "HBoxModel",
            "_view_module": "@jupyter-widgets/controls",
            "_model_module_version": "1.5.0",
            "_view_count": null,
            "_view_module_version": "1.5.0",
            "box_style": "",
            "layout": "IPY_MODEL_4f540ebcf5084ad0a433ec7c38e8843b",
            "_model_module": "@jupyter-widgets/controls",
            "children": [
              "IPY_MODEL_31a33cff3db34bffa78e6149cf482408",
              "IPY_MODEL_a2199c9e109d49cf8669fdd68e4c9c05"
            ]
          }
        },
        "4f540ebcf5084ad0a433ec7c38e8843b": {
          "model_module": "@jupyter-widgets/base",
          "model_name": "LayoutModel",
          "state": {
            "_view_name": "LayoutView",
            "grid_template_rows": null,
            "right": null,
            "justify_content": null,
            "_view_module": "@jupyter-widgets/base",
            "overflow": null,
            "_model_module_version": "1.2.0",
            "_view_count": null,
            "flex_flow": null,
            "width": null,
            "min_width": null,
            "border": null,
            "align_items": null,
            "bottom": null,
            "_model_module": "@jupyter-widgets/base",
            "top": null,
            "grid_column": null,
            "overflow_y": null,
            "overflow_x": null,
            "grid_auto_flow": null,
            "grid_area": null,
            "grid_template_columns": null,
            "flex": null,
            "_model_name": "LayoutModel",
            "justify_items": null,
            "grid_row": null,
            "max_height": null,
            "align_content": null,
            "visibility": null,
            "align_self": null,
            "height": null,
            "min_height": null,
            "padding": null,
            "grid_auto_rows": null,
            "grid_gap": null,
            "max_width": null,
            "order": null,
            "_view_module_version": "1.2.0",
            "grid_template_areas": null,
            "object_position": null,
            "object_fit": null,
            "grid_auto_columns": null,
            "margin": null,
            "display": null,
            "left": null
          }
        },
        "31a33cff3db34bffa78e6149cf482408": {
          "model_module": "@jupyter-widgets/controls",
          "model_name": "FloatProgressModel",
          "state": {
            "_view_name": "ProgressView",
            "style": "IPY_MODEL_27f2c1afae454b5c8b26a8f1116d195a",
            "_dom_classes": [],
            "description": "",
            "_model_name": "FloatProgressModel",
            "bar_style": "success",
            "max": 1,
            "_view_module": "@jupyter-widgets/controls",
            "_model_module_version": "1.5.0",
            "value": 1,
            "_view_count": null,
            "_view_module_version": "1.5.0",
            "orientation": "horizontal",
            "min": 0,
            "description_tooltip": null,
            "_model_module": "@jupyter-widgets/controls",
            "layout": "IPY_MODEL_31d828f571eb4eda82ab7ace42b92aac"
          }
        },
        "a2199c9e109d49cf8669fdd68e4c9c05": {
          "model_module": "@jupyter-widgets/controls",
          "model_name": "HTMLModel",
          "state": {
            "_view_name": "HTMLView",
            "style": "IPY_MODEL_7d4a2139ab3c4fc59d27af78f021c3c9",
            "_dom_classes": [],
            "description": "",
            "_model_name": "HTMLModel",
            "placeholder": "​",
            "_view_module": "@jupyter-widgets/controls",
            "_model_module_version": "1.5.0",
            "value": " 1654784/? [00:02&lt;00:00, 554908.53it/s]",
            "_view_count": null,
            "_view_module_version": "1.5.0",
            "description_tooltip": null,
            "_model_module": "@jupyter-widgets/controls",
            "layout": "IPY_MODEL_dfe9c54886ad42438a5892227dd048b8"
          }
        },
        "27f2c1afae454b5c8b26a8f1116d195a": {
          "model_module": "@jupyter-widgets/controls",
          "model_name": "ProgressStyleModel",
          "state": {
            "_view_name": "StyleView",
            "_model_name": "ProgressStyleModel",
            "description_width": "initial",
            "_view_module": "@jupyter-widgets/base",
            "_model_module_version": "1.5.0",
            "_view_count": null,
            "_view_module_version": "1.2.0",
            "bar_color": null,
            "_model_module": "@jupyter-widgets/controls"
          }
        },
        "31d828f571eb4eda82ab7ace42b92aac": {
          "model_module": "@jupyter-widgets/base",
          "model_name": "LayoutModel",
          "state": {
            "_view_name": "LayoutView",
            "grid_template_rows": null,
            "right": null,
            "justify_content": null,
            "_view_module": "@jupyter-widgets/base",
            "overflow": null,
            "_model_module_version": "1.2.0",
            "_view_count": null,
            "flex_flow": null,
            "width": null,
            "min_width": null,
            "border": null,
            "align_items": null,
            "bottom": null,
            "_model_module": "@jupyter-widgets/base",
            "top": null,
            "grid_column": null,
            "overflow_y": null,
            "overflow_x": null,
            "grid_auto_flow": null,
            "grid_area": null,
            "grid_template_columns": null,
            "flex": null,
            "_model_name": "LayoutModel",
            "justify_items": null,
            "grid_row": null,
            "max_height": null,
            "align_content": null,
            "visibility": null,
            "align_self": null,
            "height": null,
            "min_height": null,
            "padding": null,
            "grid_auto_rows": null,
            "grid_gap": null,
            "max_width": null,
            "order": null,
            "_view_module_version": "1.2.0",
            "grid_template_areas": null,
            "object_position": null,
            "object_fit": null,
            "grid_auto_columns": null,
            "margin": null,
            "display": null,
            "left": null
          }
        },
        "7d4a2139ab3c4fc59d27af78f021c3c9": {
          "model_module": "@jupyter-widgets/controls",
          "model_name": "DescriptionStyleModel",
          "state": {
            "_view_name": "StyleView",
            "_model_name": "DescriptionStyleModel",
            "description_width": "",
            "_view_module": "@jupyter-widgets/base",
            "_model_module_version": "1.5.0",
            "_view_count": null,
            "_view_module_version": "1.2.0",
            "_model_module": "@jupyter-widgets/controls"
          }
        },
        "dfe9c54886ad42438a5892227dd048b8": {
          "model_module": "@jupyter-widgets/base",
          "model_name": "LayoutModel",
          "state": {
            "_view_name": "LayoutView",
            "grid_template_rows": null,
            "right": null,
            "justify_content": null,
            "_view_module": "@jupyter-widgets/base",
            "overflow": null,
            "_model_module_version": "1.2.0",
            "_view_count": null,
            "flex_flow": null,
            "width": null,
            "min_width": null,
            "border": null,
            "align_items": null,
            "bottom": null,
            "_model_module": "@jupyter-widgets/base",
            "top": null,
            "grid_column": null,
            "overflow_y": null,
            "overflow_x": null,
            "grid_auto_flow": null,
            "grid_area": null,
            "grid_template_columns": null,
            "flex": null,
            "_model_name": "LayoutModel",
            "justify_items": null,
            "grid_row": null,
            "max_height": null,
            "align_content": null,
            "visibility": null,
            "align_self": null,
            "height": null,
            "min_height": null,
            "padding": null,
            "grid_auto_rows": null,
            "grid_gap": null,
            "max_width": null,
            "order": null,
            "_view_module_version": "1.2.0",
            "grid_template_areas": null,
            "object_position": null,
            "object_fit": null,
            "grid_auto_columns": null,
            "margin": null,
            "display": null,
            "left": null
          }
        },
        "e860c01ca5d64642bb7442ef20f8f052": {
          "model_module": "@jupyter-widgets/controls",
          "model_name": "HBoxModel",
          "state": {
            "_view_name": "HBoxView",
            "_dom_classes": [],
            "_model_name": "HBoxModel",
            "_view_module": "@jupyter-widgets/controls",
            "_model_module_version": "1.5.0",
            "_view_count": null,
            "_view_module_version": "1.5.0",
            "box_style": "",
            "layout": "IPY_MODEL_91035673ac3a48ddb75ad433a130a390",
            "_model_module": "@jupyter-widgets/controls",
            "children": [
              "IPY_MODEL_c6f1dca596cb48a99239adbd3912c033",
              "IPY_MODEL_0e8ec6090cfe4034a625940f08b90a77"
            ]
          }
        },
        "91035673ac3a48ddb75ad433a130a390": {
          "model_module": "@jupyter-widgets/base",
          "model_name": "LayoutModel",
          "state": {
            "_view_name": "LayoutView",
            "grid_template_rows": null,
            "right": null,
            "justify_content": null,
            "_view_module": "@jupyter-widgets/base",
            "overflow": null,
            "_model_module_version": "1.2.0",
            "_view_count": null,
            "flex_flow": null,
            "width": null,
            "min_width": null,
            "border": null,
            "align_items": null,
            "bottom": null,
            "_model_module": "@jupyter-widgets/base",
            "top": null,
            "grid_column": null,
            "overflow_y": null,
            "overflow_x": null,
            "grid_auto_flow": null,
            "grid_area": null,
            "grid_template_columns": null,
            "flex": null,
            "_model_name": "LayoutModel",
            "justify_items": null,
            "grid_row": null,
            "max_height": null,
            "align_content": null,
            "visibility": null,
            "align_self": null,
            "height": null,
            "min_height": null,
            "padding": null,
            "grid_auto_rows": null,
            "grid_gap": null,
            "max_width": null,
            "order": null,
            "_view_module_version": "1.2.0",
            "grid_template_areas": null,
            "object_position": null,
            "object_fit": null,
            "grid_auto_columns": null,
            "margin": null,
            "display": null,
            "left": null
          }
        },
        "c6f1dca596cb48a99239adbd3912c033": {
          "model_module": "@jupyter-widgets/controls",
          "model_name": "FloatProgressModel",
          "state": {
            "_view_name": "ProgressView",
            "style": "IPY_MODEL_d358eabb23334892b0cf3592083c81bf",
            "_dom_classes": [],
            "description": "",
            "_model_name": "FloatProgressModel",
            "bar_style": "success",
            "max": 1,
            "_view_module": "@jupyter-widgets/controls",
            "_model_module_version": "1.5.0",
            "value": 1,
            "_view_count": null,
            "_view_module_version": "1.5.0",
            "orientation": "horizontal",
            "min": 0,
            "description_tooltip": null,
            "_model_module": "@jupyter-widgets/controls",
            "layout": "IPY_MODEL_e37b6c2d70cb4c249f9462669b249495"
          }
        },
        "0e8ec6090cfe4034a625940f08b90a77": {
          "model_module": "@jupyter-widgets/controls",
          "model_name": "HTMLModel",
          "state": {
            "_view_name": "HTMLView",
            "style": "IPY_MODEL_2297af7d3f974fff9cc8bbbb49af4848",
            "_dom_classes": [],
            "description": "",
            "_model_name": "HTMLModel",
            "placeholder": "​",
            "_view_module": "@jupyter-widgets/controls",
            "_model_module_version": "1.5.0",
            "value": " 8192/? [00:00&lt;00:00, 9222.52it/s]",
            "_view_count": null,
            "_view_module_version": "1.5.0",
            "description_tooltip": null,
            "_model_module": "@jupyter-widgets/controls",
            "layout": "IPY_MODEL_0879cf7241744f199087f38f5dcc81e8"
          }
        },
        "d358eabb23334892b0cf3592083c81bf": {
          "model_module": "@jupyter-widgets/controls",
          "model_name": "ProgressStyleModel",
          "state": {
            "_view_name": "StyleView",
            "_model_name": "ProgressStyleModel",
            "description_width": "initial",
            "_view_module": "@jupyter-widgets/base",
            "_model_module_version": "1.5.0",
            "_view_count": null,
            "_view_module_version": "1.2.0",
            "bar_color": null,
            "_model_module": "@jupyter-widgets/controls"
          }
        },
        "e37b6c2d70cb4c249f9462669b249495": {
          "model_module": "@jupyter-widgets/base",
          "model_name": "LayoutModel",
          "state": {
            "_view_name": "LayoutView",
            "grid_template_rows": null,
            "right": null,
            "justify_content": null,
            "_view_module": "@jupyter-widgets/base",
            "overflow": null,
            "_model_module_version": "1.2.0",
            "_view_count": null,
            "flex_flow": null,
            "width": null,
            "min_width": null,
            "border": null,
            "align_items": null,
            "bottom": null,
            "_model_module": "@jupyter-widgets/base",
            "top": null,
            "grid_column": null,
            "overflow_y": null,
            "overflow_x": null,
            "grid_auto_flow": null,
            "grid_area": null,
            "grid_template_columns": null,
            "flex": null,
            "_model_name": "LayoutModel",
            "justify_items": null,
            "grid_row": null,
            "max_height": null,
            "align_content": null,
            "visibility": null,
            "align_self": null,
            "height": null,
            "min_height": null,
            "padding": null,
            "grid_auto_rows": null,
            "grid_gap": null,
            "max_width": null,
            "order": null,
            "_view_module_version": "1.2.0",
            "grid_template_areas": null,
            "object_position": null,
            "object_fit": null,
            "grid_auto_columns": null,
            "margin": null,
            "display": null,
            "left": null
          }
        },
        "2297af7d3f974fff9cc8bbbb49af4848": {
          "model_module": "@jupyter-widgets/controls",
          "model_name": "DescriptionStyleModel",
          "state": {
            "_view_name": "StyleView",
            "_model_name": "DescriptionStyleModel",
            "description_width": "",
            "_view_module": "@jupyter-widgets/base",
            "_model_module_version": "1.5.0",
            "_view_count": null,
            "_view_module_version": "1.2.0",
            "_model_module": "@jupyter-widgets/controls"
          }
        },
        "0879cf7241744f199087f38f5dcc81e8": {
          "model_module": "@jupyter-widgets/base",
          "model_name": "LayoutModel",
          "state": {
            "_view_name": "LayoutView",
            "grid_template_rows": null,
            "right": null,
            "justify_content": null,
            "_view_module": "@jupyter-widgets/base",
            "overflow": null,
            "_model_module_version": "1.2.0",
            "_view_count": null,
            "flex_flow": null,
            "width": null,
            "min_width": null,
            "border": null,
            "align_items": null,
            "bottom": null,
            "_model_module": "@jupyter-widgets/base",
            "top": null,
            "grid_column": null,
            "overflow_y": null,
            "overflow_x": null,
            "grid_auto_flow": null,
            "grid_area": null,
            "grid_template_columns": null,
            "flex": null,
            "_model_name": "LayoutModel",
            "justify_items": null,
            "grid_row": null,
            "max_height": null,
            "align_content": null,
            "visibility": null,
            "align_self": null,
            "height": null,
            "min_height": null,
            "padding": null,
            "grid_auto_rows": null,
            "grid_gap": null,
            "max_width": null,
            "order": null,
            "_view_module_version": "1.2.0",
            "grid_template_areas": null,
            "object_position": null,
            "object_fit": null,
            "grid_auto_columns": null,
            "margin": null,
            "display": null,
            "left": null
          }
        }
      }
    }
  },
  "cells": [
    {
      "cell_type": "markdown",
      "metadata": {
        "id": "view-in-github",
        "colab_type": "text"
      },
      "source": [
        "<a href=\"https://colab.research.google.com/github/subro12/fastbook/blob/master/Feed_forward_self.ipynb\" target=\"_parent\"><img src=\"https://colab.research.google.com/assets/colab-badge.svg\" alt=\"Open In Colab\"/></a>"
      ]
    },
    {
      "cell_type": "code",
      "metadata": {
        "id": "JnqKiXSPT1x8",
        "colab": {
          "base_uri": "https://localhost:8080/"
        },
        "outputId": "a03eab6a-b671-445f-e66f-47fa49ae53fe"
      },
      "source": [
        "# Jovian Commit Essentials\r\n",
        "# Please retain and execute this cell without modifying the contents for `jovian.commit` to work\r\n",
        "!pip install jovian --upgrade -q\r\n",
        "import jovian"
      ],
      "execution_count": 1,
      "outputs": [
        {
          "output_type": "stream",
          "text": [
            "\u001b[?25l\r\u001b[K     |█████                           | 10kB 28.0MB/s eta 0:00:01\r\u001b[K     |██████████                      | 20kB 35.1MB/s eta 0:00:01\r\u001b[K     |██████████████▉                 | 30kB 10.8MB/s eta 0:00:01\r\u001b[K     |███████████████████▉            | 40kB 3.2MB/s eta 0:00:01\r\u001b[K     |████████████████████████▉       | 51kB 4.0MB/s eta 0:00:01\r\u001b[K     |█████████████████████████████▊  | 61kB 4.5MB/s eta 0:00:01\r\u001b[K     |████████████████████████████████| 71kB 3.6MB/s \n",
            "\u001b[?25h  Building wheel for uuid (setup.py) ... \u001b[?25l\u001b[?25hdone\n"
          ],
          "name": "stdout"
        }
      ]
    },
    {
      "cell_type": "code",
      "metadata": {
        "id": "xW0B0U3yT47n"
      },
      "source": [
        "import torch\r\n",
        "import torchvision\r\n",
        "from torchvision.datasets import MNIST \r\n",
        "from torchvision.transforms import ToTensor \r\n",
        "from torch.utils.data.dataset import random_split\r\n",
        "from torch.utils.data import DataLoader\r\n",
        "from torchvision.utils import make_grid\r\n",
        "import torch.nn as nn\r\n",
        "import torch.nn.functional as F\r\n",
        "\r\n",
        "import numpy as np\r\n",
        "import pandas as pd\r\n",
        "\r\n",
        "import matplotlib.pyplot as plt\r\n",
        "%matplotlib inline\r\n"
      ],
      "execution_count": 2,
      "outputs": []
    },
    {
      "cell_type": "code",
      "metadata": {
        "colab": {
          "base_uri": "https://localhost:8080/",
          "height": 400,
          "referenced_widgets": [
            "375ca6338233412aae61880bb25c3175",
            "e93834025a7144ba8f4b8db877e62907",
            "d03b3dbfd2644c748514b3bb64aac280",
            "de92af3227024016a8b2344db2897038",
            "76c36a26fdee4ca0869d618edc05bbf5",
            "741341e8676c4eacacdd16509496929c",
            "5ff20ecac560459dbeaa9d65eca82097",
            "0aaa782797b543e28231261d8e107a5b",
            "ca7ed42182c64ff7be50cef1b3284156",
            "33f3533113eb403d98ad6ff10ec3e2f6",
            "492f6ddf169a400184682731b4c387b6",
            "c93ea4098e23481caba36ef0fb7f9e1f",
            "05141c0ce4d44ecfba077f1fce8546a7",
            "9267821c5c4446e695b55fe576a51ab7",
            "b24c0cf957e2411d91afe3baac047846",
            "745b724311ef4186a40af3e509f87cae",
            "c9d29e1021984504a639246dd22e155d",
            "4f540ebcf5084ad0a433ec7c38e8843b",
            "31a33cff3db34bffa78e6149cf482408",
            "a2199c9e109d49cf8669fdd68e4c9c05",
            "27f2c1afae454b5c8b26a8f1116d195a",
            "31d828f571eb4eda82ab7ace42b92aac",
            "7d4a2139ab3c4fc59d27af78f021c3c9",
            "dfe9c54886ad42438a5892227dd048b8",
            "e860c01ca5d64642bb7442ef20f8f052",
            "91035673ac3a48ddb75ad433a130a390",
            "c6f1dca596cb48a99239adbd3912c033",
            "0e8ec6090cfe4034a625940f08b90a77",
            "d358eabb23334892b0cf3592083c81bf",
            "e37b6c2d70cb4c249f9462669b249495",
            "2297af7d3f974fff9cc8bbbb49af4848",
            "0879cf7241744f199087f38f5dcc81e8"
          ]
        },
        "id": "EJHg6ZqQUDXS",
        "outputId": "c716361a-f9cf-4816-a68b-032d95d60e5a"
      },
      "source": [
        "dataset = MNIST(root='data/',download=True,transform=ToTensor(),train=True)"
      ],
      "execution_count": 3,
      "outputs": [
        {
          "output_type": "stream",
          "text": [
            "Downloading http://yann.lecun.com/exdb/mnist/train-images-idx3-ubyte.gz to data/MNIST/raw/train-images-idx3-ubyte.gz\n"
          ],
          "name": "stdout"
        },
        {
          "output_type": "display_data",
          "data": {
            "application/vnd.jupyter.widget-view+json": {
              "model_id": "375ca6338233412aae61880bb25c3175",
              "version_minor": 0,
              "version_major": 2
            },
            "text/plain": [
              "HBox(children=(FloatProgress(value=1.0, bar_style='info', max=1.0), HTML(value='')))"
            ]
          },
          "metadata": {
            "tags": []
          }
        },
        {
          "output_type": "stream",
          "text": [
            "Extracting data/MNIST/raw/train-images-idx3-ubyte.gz to data/MNIST/raw\n",
            "Downloading http://yann.lecun.com/exdb/mnist/train-labels-idx1-ubyte.gz to data/MNIST/raw/train-labels-idx1-ubyte.gz\n"
          ],
          "name": "stdout"
        },
        {
          "output_type": "display_data",
          "data": {
            "application/vnd.jupyter.widget-view+json": {
              "model_id": "ca7ed42182c64ff7be50cef1b3284156",
              "version_minor": 0,
              "version_major": 2
            },
            "text/plain": [
              "HBox(children=(FloatProgress(value=1.0, bar_style='info', max=1.0), HTML(value='')))"
            ]
          },
          "metadata": {
            "tags": []
          }
        },
        {
          "output_type": "stream",
          "text": [
            "Extracting data/MNIST/raw/train-labels-idx1-ubyte.gz to data/MNIST/raw\n",
            "Downloading http://yann.lecun.com/exdb/mnist/t10k-images-idx3-ubyte.gz to data/MNIST/raw/t10k-images-idx3-ubyte.gz\n"
          ],
          "name": "stdout"
        },
        {
          "output_type": "display_data",
          "data": {
            "application/vnd.jupyter.widget-view+json": {
              "model_id": "c9d29e1021984504a639246dd22e155d",
              "version_minor": 0,
              "version_major": 2
            },
            "text/plain": [
              "HBox(children=(FloatProgress(value=1.0, bar_style='info', max=1.0), HTML(value='')))"
            ]
          },
          "metadata": {
            "tags": []
          }
        },
        {
          "output_type": "stream",
          "text": [
            "Extracting data/MNIST/raw/t10k-images-idx3-ubyte.gz to data/MNIST/raw\n",
            "Downloading http://yann.lecun.com/exdb/mnist/t10k-labels-idx1-ubyte.gz to data/MNIST/raw/t10k-labels-idx1-ubyte.gz\n",
            "\n",
            "\n"
          ],
          "name": "stdout"
        },
        {
          "output_type": "display_data",
          "data": {
            "application/vnd.jupyter.widget-view+json": {
              "model_id": "e860c01ca5d64642bb7442ef20f8f052",
              "version_minor": 0,
              "version_major": 2
            },
            "text/plain": [
              "HBox(children=(FloatProgress(value=1.0, bar_style='info', max=1.0), HTML(value='')))"
            ]
          },
          "metadata": {
            "tags": []
          }
        },
        {
          "output_type": "stream",
          "text": [
            "Extracting data/MNIST/raw/t10k-labels-idx1-ubyte.gz to data/MNIST/raw\n",
            "Processing...\n",
            "Done!\n"
          ],
          "name": "stdout"
        },
        {
          "output_type": "stream",
          "text": [
            "/usr/local/lib/python3.6/dist-packages/torchvision/datasets/mnist.py:480: UserWarning: The given NumPy array is not writeable, and PyTorch does not support non-writeable tensors. This means you can write to the underlying (supposedly non-writeable) NumPy array using the tensor. You may want to copy the array to protect its data or make it writeable before converting it to a tensor. This type of warning will be suppressed for the rest of this program. (Triggered internally at  /pytorch/torch/csrc/utils/tensor_numpy.cpp:141.)\n",
            "  return torch.from_numpy(parsed.astype(m[2], copy=False)).view(*s)\n"
          ],
          "name": "stderr"
        }
      ]
    },
    {
      "cell_type": "code",
      "metadata": {
        "colab": {
          "base_uri": "https://localhost:8080/"
        },
        "id": "GZN12iCbXVte",
        "outputId": "80111bbd-3117-4899-9b4f-46636e7acec3"
      },
      "source": [
        "len(dataset)"
      ],
      "execution_count": 4,
      "outputs": [
        {
          "output_type": "execute_result",
          "data": {
            "text/plain": [
              "60000"
            ]
          },
          "metadata": {
            "tags": []
          },
          "execution_count": 4
        }
      ]
    },
    {
      "cell_type": "code",
      "metadata": {
        "colab": {
          "base_uri": "https://localhost:8080/",
          "height": 332
        },
        "id": "yCxVophcXjUR",
        "outputId": "50c112ec-e753-447a-89cc-8a1ac3840b1a"
      },
      "source": [
        "image, label = dataset[0]\r\n",
        "print('image.shape:',image.shape)\r\n",
        "plt.imshow(image[0],cmap='gray')\r\n",
        "print('label:',label)"
      ],
      "execution_count": 5,
      "outputs": [
        {
          "output_type": "stream",
          "text": [
            "image.shape: torch.Size([1, 28, 28])\n",
            "label: 5\n"
          ],
          "name": "stdout"
        },
        {
          "output_type": "display_data",
          "data": {
            "image/png": "[encoded data removed]",
            "text/plain": [
              "<Figure size 432x288 with 1 Axes>"
            ]
          },
          "metadata": {
            "tags": [],
            "needs_background": "light"
          }
        },
        {
          "output_type": "stream",
          "text": [
            "\n",
            "\n"
          ],
          "name": "stdout"
        }
      ]
    },
    {
      "cell_type": "markdown",
      "metadata": {
        "id": "iW2tmvB1X0sZ"
      },
      "source": [
        "Another way of showing Image using premute"
      ]
    },
    {
      "cell_type": "code",
      "metadata": {
        "colab": {
          "base_uri": "https://localhost:8080/"
        },
        "id": "U9xBKqzqX3-k",
        "outputId": "3583014a-1baf-4a21-a14d-f1295e28b82d"
      },
      "source": [
        "# Not working need to check this\r\n",
        "# understanding squeeze and unsqueeze functions\r\n",
        "print(image.unsqueeze(dim=1).shape)\r\n",
        "print(image.squeeze().shape)"
      ],
      "execution_count": 6,
      "outputs": [
        {
          "output_type": "stream",
          "text": [
            "torch.Size([1, 1, 28, 28])\n",
            "torch.Size([28, 28])\n"
          ],
          "name": "stdout"
        }
      ]
    },
    {
      "cell_type": "code",
      "metadata": {
        "id": "H2rzAPD8XA3Q"
      },
      "source": [
        "train_ds,vali_ds = random_split(dataset,[50000,10000])"
      ],
      "execution_count": 7,
      "outputs": []
    },
    {
      "cell_type": "code",
      "metadata": {
        "colab": {
          "base_uri": "https://localhost:8080/"
        },
        "id": "P1C0nUgMXVAo",
        "outputId": "e3370c2e-c4a9-4996-be14-ea1a0c2afe31"
      },
      "source": [
        "len(train_ds),len(vali_ds)"
      ],
      "execution_count": 8,
      "outputs": [
        {
          "output_type": "execute_result",
          "data": {
            "text/plain": [
              "(50000, 10000)"
            ]
          },
          "metadata": {
            "tags": []
          },
          "execution_count": 8
        }
      ]
    },
    {
      "cell_type": "markdown",
      "metadata": {
        "id": "HlYeR85oYZtc"
      },
      "source": [
        "As, we have divided into train and validation datasets, lets build dataloaders, using `dataloader` function "
      ]
    },
    {
      "cell_type": "code",
      "metadata": {
        "id": "TZt4wa54Xgjf"
      },
      "source": [
        "batch_size=128\r\n",
        "train_loader = DataLoader(train_ds,batch_size=batch_size,shuffle=True,num_workers=4,pin_memory=True)\r\n",
        "val_loader = DataLoader(vali_ds,batch_size=batch_size,num_workers=4,pin_memory=True)"
      ],
      "execution_count": 9,
      "outputs": []
    },
    {
      "cell_type": "markdown",
      "metadata": {
        "id": "XjjxBp2kZu0p"
      },
      "source": [
        "lets try to see a batch of images, how do they look like, lets use `make_grid` function"
      ]
    },
    {
      "cell_type": "code",
      "metadata": {
        "colab": {
          "base_uri": "https://localhost:8080/",
          "height": 483
        },
        "id": "nO8OKekqZuSX",
        "outputId": "d7841207-af34-499b-ec1a-d8c34a0d5597"
      },
      "source": [
        "for images, labels in train_loader:\r\n",
        "  print('images.shape:',images.shape)\r\n",
        "  plt.figure(figsize=(16,8))\r\n",
        "  plt.imshow(make_grid(images, nrow=16).permute((1,2,0)))\r\n",
        "  plt.axis('off')\r\n",
        "  break"
      ],
      "execution_count": 10,
      "outputs": [
        {
          "output_type": "stream",
          "text": [
            "images.shape: torch.Size([128, 1, 28, 28])\n"
          ],
          "name": "stdout"
        },
        {
          "output_type": "display_data",
          "data": {
            "image/png": "[encoded data removed]",
            "text/plain": [
              "<Figure size 1152x576 with 1 Axes>"
            ]
          },
          "metadata": {
            "tags": [],
            "needs_background": "light"
          }
        }
      ]
    },
    {
      "cell_type": "markdown",
      "metadata": {
        "id": "v8JZcadOdXbC"
      },
      "source": [
        "But our inputs dimension is `[128,1,28,28]` Lets flatten for one batch "
      ]
    },
    {
      "cell_type": "code",
      "metadata": {
        "colab": {
          "base_uri": "https://localhost:8080/"
        },
        "id": "RHBqX7IwdWxi",
        "outputId": "7aad2f6d-ca10-4afd-b94f-6c764a7121a2"
      },
      "source": [
        "for images, labels in train_loader:\r\n",
        "  print('images.shape: ',images.shape)\r\n",
        "  inputs = images.reshape(-1, 28*28)\r\n",
        "  print('images.shape: ',inputs.shape)\r\n",
        "  break"
      ],
      "execution_count": 11,
      "outputs": [
        {
          "output_type": "stream",
          "text": [
            "images.shape:  torch.Size([128, 1, 28, 28])\n",
            "images.shape:  torch.Size([128, 784])\n"
          ],
          "name": "stdout"
        }
      ]
    },
    {
      "cell_type": "markdown",
      "metadata": {
        "id": "0PWxjn5odCu6"
      },
      "source": [
        "Lets build our network with 2 layers, 1 is hidden layer another with output layer. So,"
      ]
    },
    {
      "cell_type": "code",
      "metadata": {
        "id": "Smed2MePazkD"
      },
      "source": [
        "# layer1-784x32\r\n",
        "# layer2- 32x10\r\n",
        "input_size=inputs.shape[-1]\r\n",
        "# print(input_size)\r\n",
        "hidden_size=32\r\n",
        "# fprint(input_size,)\r\n",
        "layer1 = nn.Linear(input_size,hidden_size)\r\n",
        "# print(layer1.parameters)\r\n",
        "# when we created nn.Linear or layer1 it will automatically creates weight and\r\n",
        "# bias for the layer, So, you can print them as below\r\n",
        "# print(layer1.weight,layer1.bias)"
      ],
      "execution_count": 12,
      "outputs": []
    },
    {
      "cell_type": "code",
      "metadata": {
        "colab": {
          "base_uri": "https://localhost:8080/"
        },
        "id": "WwD9IydXe8Tf",
        "outputId": "5199b92c-cf0e-412e-eee1-0b41468a0d9e"
      },
      "source": [
        "layer1_outputs = inputs @ layer1.weight.t() + layer1.bias\r\n",
        "print(layer1_outputs.shape)"
      ],
      "execution_count": 13,
      "outputs": [
        {
          "output_type": "stream",
          "text": [
            "torch.Size([128, 32])\n"
          ],
          "name": "stdout"
        }
      ]
    },
    {
      "cell_type": "code",
      "metadata": {
        "colab": {
          "base_uri": "https://localhost:8080/"
        },
        "id": "ie5IcPjufMqy",
        "outputId": "07792b52-07f4-4fee-8975-a5ee90a84a19"
      },
      "source": [
        "layer1_outputs_direct = layer1(inputs)\r\n",
        "print(layer1_outputs_direct.shape)"
      ],
      "execution_count": 14,
      "outputs": [
        {
          "output_type": "stream",
          "text": [
            "torch.Size([128, 32])\n"
          ],
          "name": "stdout"
        }
      ]
    },
    {
      "cell_type": "markdown",
      "metadata": {
        "id": "SAloofH7fY43"
      },
      "source": [
        "we can compare both using` torch.allclose`"
      ]
    },
    {
      "cell_type": "code",
      "metadata": {
        "colab": {
          "base_uri": "https://localhost:8080/"
        },
        "id": "NbVZW-MlfYcX",
        "outputId": "0c8f60b1-35a8-43b8-f029-956b35ed4f46"
      },
      "source": [
        "torch.allclose(layer1_outputs, layer1_outputs_direct,1e-3)"
      ],
      "execution_count": 15,
      "outputs": [
        {
          "output_type": "execute_result",
          "data": {
            "text/plain": [
              "True"
            ]
          },
          "metadata": {
            "tags": []
          },
          "execution_count": 15
        }
      ]
    },
    {
      "cell_type": "markdown",
      "metadata": {
        "id": "L5yc954-fovW"
      },
      "source": [
        "Looks both are same, lets, apply `relu` function on layer1 outputs to create non-linearity between layers and send to layer2."
      ]
    },
    {
      "cell_type": "code",
      "metadata": {
        "id": "osDF8anYflsp"
      },
      "source": [
        "relu_outputs = F.relu(layer1_outputs)"
      ],
      "execution_count": 16,
      "outputs": []
    },
    {
      "cell_type": "code",
      "metadata": {
        "id": "cSl4DAEQgT76"
      },
      "source": [
        "output_size=10\r\n",
        "layer2 = nn.Linear(hidden_size,output_size)"
      ],
      "execution_count": 17,
      "outputs": []
    },
    {
      "cell_type": "code",
      "metadata": {
        "colab": {
          "base_uri": "https://localhost:8080/"
        },
        "id": "z-QHbaoaVUpy",
        "outputId": "95b00242-df6d-4cb5-a9fa-b845809a4c7a"
      },
      "source": [
        "print(layer2.weight.shape,layer2.bias)\r\n",
        "print(relu_outputs.shape)"
      ],
      "execution_count": 18,
      "outputs": [
        {
          "output_type": "stream",
          "text": [
            "torch.Size([10, 32]) Parameter containing:\n",
            "tensor([ 0.1406, -0.1608, -0.1143, -0.1404, -0.0876, -0.0661,  0.1663, -0.0877,\n",
            "        -0.0541, -0.0415], requires_grad=True)\n",
            "torch.Size([128, 32])\n"
          ],
          "name": "stdout"
        }
      ]
    },
    {
      "cell_type": "code",
      "metadata": {
        "id": "0YrMc08HVFba"
      },
      "source": [
        "layer2_direct_outputs = relu_outputs @ layer2.weight.t() + layer2.bias"
      ],
      "execution_count": 19,
      "outputs": []
    },
    {
      "cell_type": "code",
      "metadata": {
        "id": "jPNDhMUfVjkK"
      },
      "source": [
        "layer2_outputs = layer2(relu_outputs)"
      ],
      "execution_count": 20,
      "outputs": []
    },
    {
      "cell_type": "code",
      "metadata": {
        "colab": {
          "base_uri": "https://localhost:8080/"
        },
        "id": "rW_6hlwLVqNb",
        "outputId": "c478e39d-e1f7-4970-d427-2510df5b643f"
      },
      "source": [
        "torch.allclose(layer2_outputs, layer2_direct_outputs,1e-3)"
      ],
      "execution_count": 21,
      "outputs": [
        {
          "output_type": "execute_result",
          "data": {
            "text/plain": [
              "True"
            ]
          },
          "metadata": {
            "tags": []
          },
          "execution_count": 21
        }
      ]
    },
    {
      "cell_type": "code",
      "metadata": {
        "id": "zUm1flMRV4nn"
      },
      "source": [
        "class MnistModel(nn.Module):\r\n",
        "  def __init__(self, input_size, hidden_size, output_size):\r\n",
        "    super().__init__()\r\n",
        "    self.linear1 = nn.Linear(input_size,hidden_size)\r\n",
        "\r\n",
        "    self.linear2 = nn.Linear(hidden_size, output_size)\r\n",
        "\r\n",
        "  def forward(self, xb):\r\n",
        "    xb = xb.view(xb.size(0), -1)\r\n",
        "    out = self.linear1(xb)\r\n",
        "    out = F.relu(out)\r\n",
        "    out = self.linear2(out)\r\n",
        "    return out\r\n",
        "\r\n",
        "  def training_step(self, xb):\r\n",
        "    \"\"\" this is to calculate training error and training accuracy of the data \"\"\"\r\n",
        "    images, labels = xb\r\n",
        "    out = self(images)\r\n",
        "    loss = F.cross_entropy(out,labels)\r\n",
        "    return loss\r\n",
        "\r\n",
        "  def validation_step(self, xb):\r\n",
        "    images, labels = xb\r\n",
        "    out = self(images)\r\n",
        "    loss = F.cross_entropy(out, labels)\r\n",
        "    acc = accuracy(out, labels)\r\n",
        "    return {'val_loss': loss, 'val_accuracy': acc}\r\n",
        "\r\n",
        "  def validation_epoch_end(self, outputs):\r\n",
        "    batch_losses = [x['val_loss'] for x in outputs]\r\n",
        "    epoch_loss = torch.stack(batch_losses).mean()\r\n",
        "    batch_acc = [x['val_accuracy'] for x in outputs]\r\n",
        "    epoch_acc = torch.stack(batch_acc).mean()\r\n",
        "    return {'val_loss': epoch_loss.item(), 'val_acc': epoch_acc.item()}\r\n",
        "\r\n",
        "  def epoch_end(self, epoch, result):\r\n",
        "    print(\"Epoch: {}, val_loss: {:.4f}, val_acc: {:.4f}\".format(epoch, result['val_loss'],result['val_acc']))\r\n",
        "\r\n",
        "\r\n",
        "\r\n"
      ],
      "execution_count": 22,
      "outputs": []
    },
    {
      "cell_type": "code",
      "metadata": {
        "id": "gFMeRP_yZYI7"
      },
      "source": [
        "# rather than calculating softmax, we are taking the one which has highest output\r\n",
        "def accuracy(out,labels):\r\n",
        "  _, preds = torch.max(out,dim=1)\r\n",
        "  \r\n",
        "  return torch.tensor(torch.sum(preds==labels).item() / len(preds))"
      ],
      "execution_count": 23,
      "outputs": []
    },
    {
      "cell_type": "code",
      "metadata": {
        "id": "HMCStE5CZ0wc"
      },
      "source": [
        "input_size = 784\r\n",
        "hidden_size = 32\r\n",
        "output_size = 10"
      ],
      "execution_count": 24,
      "outputs": []
    },
    {
      "cell_type": "code",
      "metadata": {
        "id": "ckCAbagyaBJn"
      },
      "source": [
        "model = MnistModel(input_size,hidden_size,output_size)"
      ],
      "execution_count": 25,
      "outputs": []
    },
    {
      "cell_type": "code",
      "metadata": {
        "colab": {
          "base_uri": "https://localhost:8080/"
        },
        "id": "iWaw9JSiaIqH",
        "outputId": "7168c70a-53ad-4101-96af-a42010ce0a79"
      },
      "source": [
        "for x in model.parameters():\r\n",
        "  print(x.shape)"
      ],
      "execution_count": 26,
      "outputs": [
        {
          "output_type": "stream",
          "text": [
            "torch.Size([32, 784])\n",
            "torch.Size([32])\n",
            "torch.Size([10, 32])\n",
            "torch.Size([10])\n"
          ],
          "name": "stdout"
        }
      ]
    },
    {
      "cell_type": "markdown",
      "metadata": {
        "id": "tappIP2makQ0"
      },
      "source": [
        "lets check accuracy for one batch.\r\n"
      ]
    },
    {
      "cell_type": "code",
      "metadata": {
        "colab": {
          "base_uri": "https://localhost:8080/",
          "height": 349
        },
        "id": "Jwo9QtzSaj8M",
        "outputId": "3b374ade-9c9d-4cac-cc47-0fc4420cc351"
      },
      "source": [
        "for images,labels in train_loader:\r\n",
        "  outputs = model(images)\r\n",
        "  loss = F.cross_entropy(outputs,labels)\r\n",
        "  print('Loss:',loss.item())\r\n",
        "  print(images[0][0].shape)\r\n",
        "  plt.imshow(images[0][0],cmap='gray')\r\n",
        "  break\r\n",
        "\r\n",
        "# less check loss \r\n",
        "print('outputs.shape :',outputs.shape)\r\n",
        "print('Sample outputs: ',outputs[0])\r\n"
      ],
      "execution_count": 27,
      "outputs": [
        {
          "output_type": "stream",
          "text": [
            "Loss: 2.3142433166503906\n",
            "torch.Size([28, 28])\n",
            "outputs.shape : torch.Size([128, 10])\n",
            "Sample outputs:  tensor([-0.0508, -0.2675, -0.0859, -0.0188, -0.0758,  0.1965, -0.2680, -0.1314,\n",
            "         0.1926,  0.0210], grad_fn=<SelectBackward>)\n"
          ],
          "name": "stdout"
        },
        {
          "output_type": "display_data",
          "data": {
            "image/png": "[encoded data removed]",
            "text/plain": [
              "<Figure size 432x288 with 1 Axes>"
            ]
          },
          "metadata": {
            "tags": [],
            "needs_background": "light"
          }
        }
      ]
    },
    {
      "cell_type": "markdown",
      "metadata": {
        "id": "7T2AESvacQGz"
      },
      "source": [
        "Let's move all our code and data to `GPU`"
      ]
    },
    {
      "cell_type": "code",
      "metadata": {
        "colab": {
          "base_uri": "https://localhost:8080/"
        },
        "id": "woHTiLgOaTD3",
        "outputId": "28bd1515-6602-496a-bf93-9111a18fd2c0"
      },
      "source": [
        "torch.cuda.is_available()"
      ],
      "execution_count": 28,
      "outputs": [
        {
          "output_type": "execute_result",
          "data": {
            "text/plain": [
              "True"
            ]
          },
          "metadata": {
            "tags": []
          },
          "execution_count": 28
        }
      ]
    },
    {
      "cell_type": "code",
      "metadata": {
        "id": "__Ghg0i4canP"
      },
      "source": [
        "def get_default_device():\r\n",
        "  if torch.cuda.is_available():\r\n",
        "    return torch.device('cuda')\r\n",
        "  return torch.device('cpu')"
      ],
      "execution_count": 29,
      "outputs": []
    },
    {
      "cell_type": "code",
      "metadata": {
        "colab": {
          "base_uri": "https://localhost:8080/"
        },
        "id": "sz-9ImW5cvLI",
        "outputId": "428e81cb-0d33-4b1e-e101-3ca53689b61d"
      },
      "source": [
        "device = get_default_device()\r\n",
        "print(device)"
      ],
      "execution_count": 30,
      "outputs": [
        {
          "output_type": "stream",
          "text": [
            "cuda\n"
          ],
          "name": "stdout"
        }
      ]
    },
    {
      "cell_type": "code",
      "metadata": {
        "id": "Xwvm1Z6gc49K"
      },
      "source": [
        "def to_device(data, device):\r\n",
        "  if isinstance(data, (list,tuple)):\r\n",
        "    return [to_device(x, device) for x in data]\r\n",
        "  return data.to(device, non_blocking=True)"
      ],
      "execution_count": 31,
      "outputs": []
    },
    {
      "cell_type": "markdown",
      "metadata": {
        "id": "UXjzoa1yipVW"
      },
      "source": [
        "lets check `to_device` method for one batch, and check it is working properly or not"
      ]
    },
    {
      "cell_type": "code",
      "metadata": {
        "colab": {
          "base_uri": "https://localhost:8080/"
        },
        "id": "pLw-M24oik2n",
        "outputId": "a6a2d0f1-d11f-40c1-b3fe-a72527b23b18"
      },
      "source": [
        "for images, lables in train_loader:\r\n",
        "  print(images.shape, images.device)\r\n",
        "  images = to_device(images, device)\r\n",
        "  print(images.device)\r\n",
        "  break"
      ],
      "execution_count": 32,
      "outputs": [
        {
          "output_type": "stream",
          "text": [
            "torch.Size([128, 1, 28, 28]) cpu\n",
            "cuda:0\n"
          ],
          "name": "stdout"
        }
      ]
    },
    {
      "cell_type": "code",
      "metadata": {
        "id": "6K6R-6Vvi_W9"
      },
      "source": [
        "class DeviceDataLoader():\r\n",
        "  def __init__(self, dl, device):\r\n",
        "    self.dl = dl\r\n",
        "    self.device = device\r\n",
        "\r\n",
        "  def __iter__(self):\r\n",
        "    for b in self.dl:\r\n",
        "      yield (to_device(b, self.device))\r\n",
        "\r\n",
        "  def __len__(self):\r\n",
        "    return len(self.dl)\r\n"
      ],
      "execution_count": 33,
      "outputs": []
    },
    {
      "cell_type": "code",
      "metadata": {
        "id": "njMo-ogPlYi9"
      },
      "source": [
        "train_loader = DeviceDataLoader(train_loader, device)\r\n",
        "val_loader = DeviceDataLoader(val_loader, device)"
      ],
      "execution_count": 34,
      "outputs": []
    },
    {
      "cell_type": "code",
      "metadata": {
        "id": "Ikc1PFMWlood"
      },
      "source": [
        "def evaluate(model, val_loader):\r\n",
        "  outputs = [model.validation_step(batch) for batch in val_loader]\r\n",
        "  return model.validation_epoch_end(outputs)"
      ],
      "execution_count": 35,
      "outputs": []
    },
    {
      "cell_type": "code",
      "metadata": {
        "id": "_ST6Fwp_mReV"
      },
      "source": [
        "def fit(epochs, lr, model, train_loader, val_loader, opt_func=torch.optim.SGD):\r\n",
        "  history = []\r\n",
        "  optimizer = opt_func(model.parameters(), lr)\r\n",
        "  for epoch in range(epochs):\r\n",
        "    for batch in train_loader:\r\n",
        "      loss = model.training_step(batch)\r\n",
        "      loss.backward()\r\n",
        "      optimizer.step()\r\n",
        "      optimizer.zero_grad()\r\n",
        "    \r\n",
        "    result = evaluate(model, val_loader)\r\n",
        "    model.epoch_end(epoch, result)\r\n",
        "    history.append(result)\r\n",
        "  return history"
      ],
      "execution_count": 36,
      "outputs": []
    },
    {
      "cell_type": "code",
      "metadata": {
        "colab": {
          "base_uri": "https://localhost:8080/"
        },
        "id": "FJbf1K_nn3gy",
        "outputId": "f6d6c0e7-72ba-4dec-b85d-249607fc73b3"
      },
      "source": [
        "model = MnistModel(input_size, hidden_size, output_size)\r\n",
        "to_device(model, device)"
      ],
      "execution_count": 37,
      "outputs": [
        {
          "output_type": "execute_result",
          "data": {
            "text/plain": [
              "MnistModel(\n",
              "  (linear1): Linear(in_features=784, out_features=32, bias=True)\n",
              "  (linear2): Linear(in_features=32, out_features=10, bias=True)\n",
              ")"
            ]
          },
          "metadata": {
            "tags": []
          },
          "execution_count": 37
        }
      ]
    },
    {
      "cell_type": "code",
      "metadata": {
        "colab": {
          "base_uri": "https://localhost:8080/"
        },
        "id": "lxiVwWJormeI",
        "outputId": "9f99aef4-7159-4479-a1e2-7cbb09ad6536"
      },
      "source": [
        "history = [evaluate(model,val_loader)]\r\n",
        "history"
      ],
      "execution_count": 38,
      "outputs": [
        {
          "output_type": "execute_result",
          "data": {
            "text/plain": [
              "[{'val_acc': 0.07308148592710495, 'val_loss': 2.3225152492523193}]"
            ]
          },
          "metadata": {
            "tags": []
          },
          "execution_count": 38
        }
      ]
    },
    {
      "cell_type": "code",
      "metadata": {
        "colab": {
          "base_uri": "https://localhost:8080/"
        },
        "id": "NHZyTNQmPcip",
        "outputId": "5a5da9a1-f31a-459e-c20d-10ae956091a4"
      },
      "source": [
        "history += fit(10, 0.1, model, train_loader, val_loader) "
      ],
      "execution_count": 39,
      "outputs": [
        {
          "output_type": "stream",
          "text": [
            "Epoch: 0, val_loss: 0.3469, val_acc: 0.9020\n",
            "Epoch: 1, val_loss: 0.3049, val_acc: 0.9114\n",
            "Epoch: 2, val_loss: 0.2674, val_acc: 0.9226\n",
            "Epoch: 3, val_loss: 0.2393, val_acc: 0.9305\n",
            "Epoch: 4, val_loss: 0.2287, val_acc: 0.9330\n",
            "Epoch: 5, val_loss: 0.2121, val_acc: 0.9386\n",
            "Epoch: 6, val_loss: 0.1956, val_acc: 0.9444\n",
            "Epoch: 7, val_loss: 0.1841, val_acc: 0.9489\n",
            "Epoch: 8, val_loss: 0.1772, val_acc: 0.9500\n",
            "Epoch: 9, val_loss: 0.1688, val_acc: 0.9516\n"
          ],
          "name": "stdout"
        }
      ]
    },
    {
      "cell_type": "code",
      "metadata": {
        "colab": {
          "base_uri": "https://localhost:8080/"
        },
        "id": "ejlDQagaQT6m",
        "outputId": "4b85c80b-41d4-480c-966e-4d6a44e50128"
      },
      "source": [
        "history += fit(30, 0.1, model, train_loader, val_loader)"
      ],
      "execution_count": 40,
      "outputs": [
        {
          "output_type": "stream",
          "text": [
            "Epoch: 0, val_loss: 0.1618, val_acc: 0.9538\n",
            "Epoch: 1, val_loss: 0.1574, val_acc: 0.9544\n",
            "Epoch: 2, val_loss: 0.1530, val_acc: 0.9569\n",
            "Epoch: 3, val_loss: 0.1445, val_acc: 0.9591\n",
            "Epoch: 4, val_loss: 0.1420, val_acc: 0.9599\n",
            "Epoch: 5, val_loss: 0.1402, val_acc: 0.9598\n",
            "Epoch: 6, val_loss: 0.1411, val_acc: 0.9602\n",
            "Epoch: 7, val_loss: 0.1331, val_acc: 0.9621\n",
            "Epoch: 8, val_loss: 0.1321, val_acc: 0.9619\n",
            "Epoch: 9, val_loss: 0.1310, val_acc: 0.9611\n",
            "Epoch: 10, val_loss: 0.1300, val_acc: 0.9633\n",
            "Epoch: 11, val_loss: 0.1283, val_acc: 0.9636\n",
            "Epoch: 12, val_loss: 0.1246, val_acc: 0.9629\n",
            "Epoch: 13, val_loss: 0.1255, val_acc: 0.9654\n",
            "Epoch: 14, val_loss: 0.1217, val_acc: 0.9648\n",
            "Epoch: 15, val_loss: 0.1229, val_acc: 0.9652\n",
            "Epoch: 16, val_loss: 0.1225, val_acc: 0.9651\n",
            "Epoch: 17, val_loss: 0.1215, val_acc: 0.9657\n",
            "Epoch: 18, val_loss: 0.1174, val_acc: 0.9658\n",
            "Epoch: 19, val_loss: 0.1231, val_acc: 0.9629\n",
            "Epoch: 20, val_loss: 0.1244, val_acc: 0.9643\n",
            "Epoch: 21, val_loss: 0.1154, val_acc: 0.9672\n",
            "Epoch: 22, val_loss: 0.1216, val_acc: 0.9655\n",
            "Epoch: 23, val_loss: 0.1184, val_acc: 0.9655\n",
            "Epoch: 24, val_loss: 0.1192, val_acc: 0.9649\n",
            "Epoch: 25, val_loss: 0.1138, val_acc: 0.9682\n",
            "Epoch: 26, val_loss: 0.1168, val_acc: 0.9660\n",
            "Epoch: 27, val_loss: 0.1139, val_acc: 0.9668\n",
            "Epoch: 28, val_loss: 0.1193, val_acc: 0.9654\n",
            "Epoch: 29, val_loss: 0.1139, val_acc: 0.9672\n"
          ],
          "name": "stdout"
        }
      ]
    },
    {
      "cell_type": "markdown",
      "metadata": {
        "id": "cTPlSvbDSVpL"
      },
      "source": [
        "we got 96% accuracy, lets plot graphs\r\n"
      ]
    },
    {
      "cell_type": "code",
      "metadata": {
        "colab": {
          "base_uri": "https://localhost:8080/"
        },
        "id": "N-ks5LDISYPS",
        "outputId": "9f938926-7545-4498-ce55-07a0455b19b5"
      },
      "source": [
        "history"
      ],
      "execution_count": 41,
      "outputs": [
        {
          "output_type": "execute_result",
          "data": {
            "text/plain": [
              "[{'val_acc': 0.07308148592710495, 'val_loss': 2.3225152492523193},\n",
              " {'val_acc': 0.9019976258277893, 'val_loss': 0.3468571901321411},\n",
              " {'val_acc': 0.9113923907279968, 'val_loss': 0.30487489700317383},\n",
              " {'val_acc': 0.9225672483444214, 'val_loss': 0.26736968755722046},\n",
              " {'val_acc': 0.9304786324501038, 'val_loss': 0.23927003145217896},\n",
              " {'val_acc': 0.9330498576164246, 'val_loss': 0.22872799634933472},\n",
              " {'val_acc': 0.9385878443717957, 'val_loss': 0.2121497094631195},\n",
              " {'val_acc': 0.9444224834442139, 'val_loss': 0.19560882449150085},\n",
              " {'val_acc': 0.9488726258277893, 'val_loss': 0.18406006693840027},\n",
              " {'val_acc': 0.949960470199585, 'val_loss': 0.17719264328479767},\n",
              " {'val_acc': 0.9516416192054749, 'val_loss': 0.16882625222206116},\n",
              " {'val_acc': 0.9538172483444214, 'val_loss': 0.1617620438337326},\n",
              " {'val_acc': 0.9544106125831604, 'val_loss': 0.15742751955986023},\n",
              " {'val_acc': 0.956882894039154, 'val_loss': 0.15299293398857117},\n",
              " {'val_acc': 0.9590585231781006, 'val_loss': 0.14447353780269623},\n",
              " {'val_acc': 0.9599485993385315, 'val_loss': 0.1420280933380127},\n",
              " {'val_acc': 0.959750771522522, 'val_loss': 0.14020243287086487},\n",
              " {'val_acc': 0.9602452516555786, 'val_loss': 0.1410689800977707},\n",
              " {'val_acc': 0.962124228477478, 'val_loss': 0.1330731064081192},\n",
              " {'val_acc': 0.9619264006614685, 'val_loss': 0.13205401599407196},\n",
              " {'val_acc': 0.9611352682113647, 'val_loss': 0.1310472935438156},\n",
              " {'val_acc': 0.9633108973503113, 'val_loss': 0.13001886010169983},\n",
              " {'val_acc': 0.9636076092720032, 'val_loss': 0.1283029317855835},\n",
              " {'val_acc': 0.9629153609275818, 'val_loss': 0.1245642602443695},\n",
              " {'val_acc': 0.9653876423835754, 'val_loss': 0.12550079822540283},\n",
              " {'val_acc': 0.9647942781448364, 'val_loss': 0.12173754721879959},\n",
              " {'val_acc': 0.9651898741722107, 'val_loss': 0.12288089096546173},\n",
              " {'val_acc': 0.9650909900665283, 'val_loss': 0.12248075753450394},\n",
              " {'val_acc': 0.9656843543052673, 'val_loss': 0.12150347232818604},\n",
              " {'val_acc': 0.9657832384109497, 'val_loss': 0.11738932877779007},\n",
              " {'val_acc': 0.9629153609275818, 'val_loss': 0.12310954183340073},\n",
              " {'val_acc': 0.9642998576164246, 'val_loss': 0.12437107414007187},\n",
              " {'val_acc': 0.9671677350997925, 'val_loss': 0.11544742435216904},\n",
              " {'val_acc': 0.9654865264892578, 'val_loss': 0.12159834057092667},\n",
              " {'val_acc': 0.9654865264892578, 'val_loss': 0.11840905249118805},\n",
              " {'val_acc': 0.9648932218551636, 'val_loss': 0.11923351138830185},\n",
              " {'val_acc': 0.968156635761261, 'val_loss': 0.11383147537708282},\n",
              " {'val_acc': 0.9659810066223145, 'val_loss': 0.11678653955459595},\n",
              " {'val_acc': 0.9667721390724182, 'val_loss': 0.11392425745725632},\n",
              " {'val_acc': 0.9653876423835754, 'val_loss': 0.11933351308107376},\n",
              " {'val_acc': 0.9671677350997925, 'val_loss': 0.11393731087446213}]"
            ]
          },
          "metadata": {
            "tags": []
          },
          "execution_count": 41
        }
      ]
    },
    {
      "cell_type": "code",
      "metadata": {
        "colab": {
          "base_uri": "https://localhost:8080/",
          "height": 312
        },
        "id": "F4l7euNbSxiS",
        "outputId": "8ceaaed1-cb08-4cec-e1b4-1d8bff8c550e"
      },
      "source": [
        "losses = [x['val_loss'] for x in history]\r\n",
        "plt.plot(losses,'-x')\r\n",
        "plt.xlabel('epochs')\r\n",
        "plt.ylabel('loss')\r\n",
        "plt.title('Loss Vs Epochs')"
      ],
      "execution_count": 42,
      "outputs": [
        {
          "output_type": "execute_result",
          "data": {
            "text/plain": [
              "Text(0.5, 1.0, 'Loss Vs Epochs')"
            ]
          },
          "metadata": {
            "tags": []
          },
          "execution_count": 42
        },
        {
          "output_type": "display_data",
          "data": {
            "image/png": "[encoded data removed]",
            "text/plain": [
              "<Figure size 432x288 with 1 Axes>"
            ]
          },
          "metadata": {
            "tags": [],
            "needs_background": "light"
          }
        }
      ]
    },
    {
      "cell_type": "code",
      "metadata": {
        "colab": {
          "base_uri": "https://localhost:8080/",
          "height": 312
        },
        "id": "3IFhlS4uTJC2",
        "outputId": "9469ef2e-9e71-4bbe-f1c6-4ba798abc7af"
      },
      "source": [
        "accuracy = [x['val_acc'] for x in history]\r\n",
        "plt.plot(accuracy,'-x')\r\n",
        "plt.xlabel('epochs')\r\n",
        "plt.ylabel('accuracy')\r\n",
        "plt.title('Accuracy Vs Epochs')"
      ],
      "execution_count": 43,
      "outputs": [
        {
          "output_type": "execute_result",
          "data": {
            "text/plain": [
              "Text(0.5, 1.0, 'Accuracy Vs Epochs')"
            ]
          },
          "metadata": {
            "tags": []
          },
          "execution_count": 43
        },
        {
          "output_type": "display_data",
          "data": {
            "image/png": "[encoded data removed]",
            "text/plain": [
              "<Figure size 432x288 with 1 Axes>"
            ]
          },
          "metadata": {
            "tags": [],
            "needs_background": "light"
          }
        }
      ]
    },
    {
      "cell_type": "markdown",
      "metadata": {
        "id": "q_qL4djDUAUL"
      },
      "source": [
        "TEst with Indivudual images"
      ]
    },
    {
      "cell_type": "code",
      "metadata": {
        "id": "nyp6ZXX6TrZb"
      },
      "source": [
        "test_data = MNIST(root='data/', train=False, transform=ToTensor(),download=True)"
      ],
      "execution_count": 44,
      "outputs": []
    },
    {
      "cell_type": "code",
      "metadata": {
        "colab": {
          "base_uri": "https://localhost:8080/"
        },
        "id": "JECCOQW4UL7E",
        "outputId": "500102a2-cd0b-4109-a8c5-9a230b1a9670"
      },
      "source": [
        "len(test_data)"
      ],
      "execution_count": 45,
      "outputs": [
        {
          "output_type": "execute_result",
          "data": {
            "text/plain": [
              "10000"
            ]
          },
          "metadata": {
            "tags": []
          },
          "execution_count": 45
        }
      ]
    },
    {
      "cell_type": "code",
      "metadata": {
        "id": "FCMN0LhjUN_a"
      },
      "source": [
        "def predict_image(img,model):\r\n",
        "  xb = to_device(img.unsqueeze(0),device)\r\n",
        "  yb = model(xb)\r\n",
        "  _, preds = torch.max(yb, dim=1)\r\n",
        "  return preds[0].item()"
      ],
      "execution_count": 46,
      "outputs": []
    },
    {
      "cell_type": "code",
      "metadata": {
        "colab": {
          "base_uri": "https://localhost:8080/",
          "height": 282
        },
        "id": "107HE9lWUffK",
        "outputId": "44762c10-6980-499e-a747-8b66131ce22d"
      },
      "source": [
        "img, label = test_data[0]\r\n",
        "plt.imshow(img[0])\r\n",
        "pred_label = predict_image(img, model)\r\n",
        "print('predicted label :',pred_label)"
      ],
      "execution_count": 47,
      "outputs": [
        {
          "output_type": "stream",
          "text": [
            "predicted label : 7\n"
          ],
          "name": "stdout"
        },
        {
          "output_type": "display_data",
          "data": {
            "image/png": "[encoded data removed]",
            "text/plain": [
              "<Figure size 432x288 with 1 Axes>"
            ]
          },
          "metadata": {
            "tags": [],
            "needs_background": "light"
          }
        }
      ]
    },
    {
      "cell_type": "code",
      "metadata": {
        "colab": {
          "base_uri": "https://localhost:8080/",
          "height": 282
        },
        "id": "HWU9AjW0VVmd",
        "outputId": "b9ff4419-8633-4802-d4a6-62e8e3db4a52"
      },
      "source": [
        "img, label = test_data[1839]\r\n",
        "plt.imshow(img[0])\r\n",
        "pred_label = predict_image(img, model)\r\n",
        "print('predicted label :',pred_label)"
      ],
      "execution_count": 48,
      "outputs": [
        {
          "output_type": "stream",
          "text": [
            "predicted label : 2\n"
          ],
          "name": "stdout"
        },
        {
          "output_type": "display_data",
          "data": {
            "image/png": "[encoded data removed]",
            "text/plain": [
              "<Figure size 432x288 with 1 Axes>"
            ]
          },
          "metadata": {
            "tags": [],
            "needs_background": "light"
          }
        }
      ]
    },
    {
      "cell_type": "code",
      "metadata": {
        "colab": {
          "base_uri": "https://localhost:8080/",
          "height": 282
        },
        "id": "KENgEeGmVjt6",
        "outputId": "63d63cbd-1d95-45c5-9a7b-cee1c98cb0b0"
      },
      "source": [
        "img, label = test_data[193]\r\n",
        "plt.imshow(img[0])\r\n",
        "pred_label = predict_image(img, model)\r\n",
        "print('predicted label :',pred_label)"
      ],
      "execution_count": 49,
      "outputs": [
        {
          "output_type": "stream",
          "text": [
            "predicted label : 9\n"
          ],
          "name": "stdout"
        },
        {
          "output_type": "display_data",
          "data": {
            "image/png": "[encoded data removed]",
            "text/plain": [
              "<Figure size 432x288 with 1 Axes>"
            ]
          },
          "metadata": {
            "tags": [],
            "needs_background": "light"
          }
        }
      ]
    },
    {
      "cell_type": "code",
      "metadata": {
        "id": "LodjIBcTWAt0"
      },
      "source": [
        "test_loader = DeviceDataLoader(DataLoader(test_data, batch_size=256), device)"
      ],
      "execution_count": 50,
      "outputs": []
    },
    {
      "cell_type": "code",
      "metadata": {
        "colab": {
          "base_uri": "https://localhost:8080/",
          "height": 320
        },
        "id": "LjjfX75maM60",
        "outputId": "9d12d704-4070-4f72-9011-266b533a8077"
      },
      "source": [
        "# result = evaluate()\r\n",
        "result = evaluate(model, test_loader)"
      ],
      "execution_count": 51,
      "outputs": [
        {
          "output_type": "error",
          "ename": "TypeError",
          "evalue": "ignored",
          "traceback": [
            "\u001b[0;31m---------------------------------------------------------------------------\u001b[0m",
            "\u001b[0;31mTypeError\u001b[0m                                 Traceback (most recent call last)",
            "\u001b[0;32m<ipython-input-51-2cafff81eb9f>\u001b[0m in \u001b[0;36m<module>\u001b[0;34m()\u001b[0m\n\u001b[1;32m      1\u001b[0m \u001b[0;31m# result = evaluate()\u001b[0m\u001b[0;34m\u001b[0m\u001b[0;34m\u001b[0m\u001b[0;34m\u001b[0m\u001b[0m\n\u001b[0;32m----> 2\u001b[0;31m \u001b[0mresult\u001b[0m \u001b[0;34m=\u001b[0m \u001b[0mevaluate\u001b[0m\u001b[0;34m(\u001b[0m\u001b[0mmodel\u001b[0m\u001b[0;34m,\u001b[0m \u001b[0mtest_loader\u001b[0m\u001b[0;34m)\u001b[0m\u001b[0;34m\u001b[0m\u001b[0;34m\u001b[0m\u001b[0m\n\u001b[0m",
            "\u001b[0;32m<ipython-input-35-739e00daa132>\u001b[0m in \u001b[0;36mevaluate\u001b[0;34m(model, val_loader)\u001b[0m\n\u001b[1;32m      1\u001b[0m \u001b[0;32mdef\u001b[0m \u001b[0mevaluate\u001b[0m\u001b[0;34m(\u001b[0m\u001b[0mmodel\u001b[0m\u001b[0;34m,\u001b[0m \u001b[0mval_loader\u001b[0m\u001b[0;34m)\u001b[0m\u001b[0;34m:\u001b[0m\u001b[0;34m\u001b[0m\u001b[0;34m\u001b[0m\u001b[0m\n\u001b[0;32m----> 2\u001b[0;31m   \u001b[0moutputs\u001b[0m \u001b[0;34m=\u001b[0m \u001b[0;34m[\u001b[0m\u001b[0mmodel\u001b[0m\u001b[0;34m.\u001b[0m\u001b[0mvalidation_step\u001b[0m\u001b[0;34m(\u001b[0m\u001b[0mbatch\u001b[0m\u001b[0;34m)\u001b[0m \u001b[0;32mfor\u001b[0m \u001b[0mbatch\u001b[0m \u001b[0;32min\u001b[0m \u001b[0mval_loader\u001b[0m\u001b[0;34m]\u001b[0m\u001b[0;34m\u001b[0m\u001b[0;34m\u001b[0m\u001b[0m\n\u001b[0m\u001b[1;32m      3\u001b[0m   \u001b[0;32mreturn\u001b[0m \u001b[0mmodel\u001b[0m\u001b[0;34m.\u001b[0m\u001b[0mvalidation_epoch_end\u001b[0m\u001b[0;34m(\u001b[0m\u001b[0moutputs\u001b[0m\u001b[0;34m)\u001b[0m\u001b[0;34m\u001b[0m\u001b[0;34m\u001b[0m\u001b[0m\n",
            "\u001b[0;32m<ipython-input-35-739e00daa132>\u001b[0m in \u001b[0;36m<listcomp>\u001b[0;34m(.0)\u001b[0m\n\u001b[1;32m      1\u001b[0m \u001b[0;32mdef\u001b[0m \u001b[0mevaluate\u001b[0m\u001b[0;34m(\u001b[0m\u001b[0mmodel\u001b[0m\u001b[0;34m,\u001b[0m \u001b[0mval_loader\u001b[0m\u001b[0;34m)\u001b[0m\u001b[0;34m:\u001b[0m\u001b[0;34m\u001b[0m\u001b[0;34m\u001b[0m\u001b[0m\n\u001b[0;32m----> 2\u001b[0;31m   \u001b[0moutputs\u001b[0m \u001b[0;34m=\u001b[0m \u001b[0;34m[\u001b[0m\u001b[0mmodel\u001b[0m\u001b[0;34m.\u001b[0m\u001b[0mvalidation_step\u001b[0m\u001b[0;34m(\u001b[0m\u001b[0mbatch\u001b[0m\u001b[0;34m)\u001b[0m \u001b[0;32mfor\u001b[0m \u001b[0mbatch\u001b[0m \u001b[0;32min\u001b[0m \u001b[0mval_loader\u001b[0m\u001b[0;34m]\u001b[0m\u001b[0;34m\u001b[0m\u001b[0;34m\u001b[0m\u001b[0m\n\u001b[0m\u001b[1;32m      3\u001b[0m   \u001b[0;32mreturn\u001b[0m \u001b[0mmodel\u001b[0m\u001b[0;34m.\u001b[0m\u001b[0mvalidation_epoch_end\u001b[0m\u001b[0;34m(\u001b[0m\u001b[0moutputs\u001b[0m\u001b[0;34m)\u001b[0m\u001b[0;34m\u001b[0m\u001b[0;34m\u001b[0m\u001b[0m\n",
            "\u001b[0;32m<ipython-input-22-7ec8397d63f2>\u001b[0m in \u001b[0;36mvalidation_step\u001b[0;34m(self, xb)\u001b[0m\n\u001b[1;32m     24\u001b[0m     \u001b[0mout\u001b[0m \u001b[0;34m=\u001b[0m \u001b[0mself\u001b[0m\u001b[0;34m(\u001b[0m\u001b[0mimages\u001b[0m\u001b[0;34m)\u001b[0m\u001b[0;34m\u001b[0m\u001b[0;34m\u001b[0m\u001b[0m\n\u001b[1;32m     25\u001b[0m     \u001b[0mloss\u001b[0m \u001b[0;34m=\u001b[0m \u001b[0mF\u001b[0m\u001b[0;34m.\u001b[0m\u001b[0mcross_entropy\u001b[0m\u001b[0;34m(\u001b[0m\u001b[0mout\u001b[0m\u001b[0;34m,\u001b[0m \u001b[0mlabels\u001b[0m\u001b[0;34m)\u001b[0m\u001b[0;34m\u001b[0m\u001b[0;34m\u001b[0m\u001b[0m\n\u001b[0;32m---> 26\u001b[0;31m     \u001b[0macc\u001b[0m \u001b[0;34m=\u001b[0m \u001b[0maccuracy\u001b[0m\u001b[0;34m(\u001b[0m\u001b[0mout\u001b[0m\u001b[0;34m,\u001b[0m \u001b[0mlabels\u001b[0m\u001b[0;34m)\u001b[0m\u001b[0;34m\u001b[0m\u001b[0;34m\u001b[0m\u001b[0m\n\u001b[0m\u001b[1;32m     27\u001b[0m     \u001b[0;32mreturn\u001b[0m \u001b[0;34m{\u001b[0m\u001b[0;34m'val_loss'\u001b[0m\u001b[0;34m:\u001b[0m \u001b[0mloss\u001b[0m\u001b[0;34m,\u001b[0m \u001b[0;34m'val_accuracy'\u001b[0m\u001b[0;34m:\u001b[0m \u001b[0macc\u001b[0m\u001b[0;34m}\u001b[0m\u001b[0;34m\u001b[0m\u001b[0;34m\u001b[0m\u001b[0m\n\u001b[1;32m     28\u001b[0m \u001b[0;34m\u001b[0m\u001b[0m\n",
            "\u001b[0;31mTypeError\u001b[0m: 'list' object is not callable"
          ]
        }
      ]
    },
    {
      "cell_type": "code",
      "metadata": {
        "id": "FzKNeFtadtsM"
      },
      "source": [
        "jovian.commit(project='04-feedforward-nn-self', environment=None)"
      ],
      "execution_count": null,
      "outputs": []
    },
    {
      "cell_type": "markdown",
      "metadata": {
        "id": "YLjX3GpKsA1N"
      },
      "source": [
        ""
      ]
    }
  ]
}